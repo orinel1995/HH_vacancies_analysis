{
 "cells": [
  {
   "cell_type": "markdown",
   "metadata": {},
   "source": [
    "# Проект: Анализ данных вакансий HH.ru\n",
    "\n",
    "## Описание проекта\n",
    "### Цель проекта\n",
    "Выявить различия в вакансиях для Аналитиков данных и Системных аналитиков. Определить типичные для каждой вакансии условия работы, узнать как они меняются с ростом компетенций.\n",
    "\n",
    "### Источник данных\n",
    "Данные предварительно выгружены с использованием API сайта HH.ru в таблицы `excel`, отдельно для каждой группы вакансий. В данных содержатся вакансии, опубликованные с мая по ноябрь 2024 года.\n",
    "\n",
    "### Описание данных:\n",
    " - `id` - Уникальный идентификатор вакансии.\n",
    " - `name` - Название вакансии.\n",
    " - `published_at` - Дата публикации.\n",
    " - `alternate_url` - Ссылка на вакансию.\n",
    " - `type` - Статус вакансии на момент получения данных от api и передачи их в базу.\n",
    " - `employer` - Работодатель.\n",
    " - `department` - Работодатель, отдел.\n",
    " - `area` - Регион места работы.\n",
    " - `experience` - Требуемый опыт работы.\n",
    " - `key_skills` - Ключевые навыки, в том числе найденные при анализе полного текста вакансии. Поле генерируется после получения информации от api.\n",
    " - `schedule` - График работы.\n",
    " - `employment` - Тип занятости.\n",
    " - `description` - Описание вакансии.\n",
    " - `description_lemmatized` - Лемматизированное описание вакансии.\n",
    " - `salary_from` - Нижняя граница предлагаемой заработной платы.\n",
    " - `salary_to` - Верхняя граница предлагаемой заработной платы.\n",
    " - `salary_bin` - Категория зарплаты."
   ]
  },
  {
   "cell_type": "markdown",
   "metadata": {},
   "source": [
    "Установка не стандартных библиотек"
   ]
  },
  {
   "cell_type": "code",
   "execution_count": null,
   "metadata": {},
   "outputs": [],
   "source": [
    "$ pip install pypalettes"
   ]
  },
  {
   "cell_type": "markdown",
   "metadata": {},
   "source": [
    "Подключение библиотек"
   ]
  },
  {
   "cell_type": "code",
   "execution_count": 101,
   "metadata": {},
   "outputs": [],
   "source": [
    "# Импортируем библиотеки\n",
    "import pandas as pd\n",
    "import matplotlib.pyplot as plt\n",
    "import seaborn as sns\n",
    "import warnings\n",
    "import pypalettes\n",
    "\n",
    "# Установим максимальную ширину вывода столбцов\n",
    "pd.set_option('display.max_colwidth', 50)\n",
    "\n",
    "# Отключим предупреждения\n",
    "warnings.filterwarnings('ignore')\n",
    "\n",
    "# Выбор цветового набора для визуализаций\n",
    "cmap = pypalettes.load_cmap('ArcticGates')\n",
    "cmap_cont = pypalettes.load_cmap('ArcticGates', cmap_type='continuous')"
   ]
  },
  {
   "cell_type": "markdown",
   "metadata": {},
   "source": [
    "## Получение данных\n",
    "\n",
    "Данные о вакансиях для Аналитика данных и Системного аналитика находятся в отдельных файлах. Объединим их, обозначив каждый сет признаком в столбце `jobs`."
   ]
  },
  {
   "cell_type": "code",
   "execution_count": 102,
   "metadata": {},
   "outputs": [
    {
     "name": "stdout",
     "output_type": "stream",
     "text": [
      "<class 'pandas.core.frame.DataFrame'>\n",
      "RangeIndex: 4714 entries, 0 to 4713\n",
      "Data columns (total 18 columns):\n",
      " #   Column                  Non-Null Count  Dtype         \n",
      "---  ------                  --------------  -----         \n",
      " 0   id                      4714 non-null   int64         \n",
      " 1   name                    4714 non-null   object        \n",
      " 2   published_at            4714 non-null   datetime64[ns]\n",
      " 3   alternate_url           4714 non-null   object        \n",
      " 4   type                    4714 non-null   object        \n",
      " 5   employer                4714 non-null   object        \n",
      " 6   department              1128 non-null   object        \n",
      " 7   area                    4714 non-null   object        \n",
      " 8   experience              4714 non-null   object        \n",
      " 9   key_skills              4714 non-null   object        \n",
      " 10  schedule                4714 non-null   object        \n",
      " 11  employment              4714 non-null   object        \n",
      " 12  description             4714 non-null   object        \n",
      " 13  description_lemmatized  3716 non-null   object        \n",
      " 14  salary_from             915 non-null    float64       \n",
      " 15  salary_to               625 non-null    float64       \n",
      " 16  salary_bin              4714 non-null   object        \n",
      " 17  job                     4714 non-null   object        \n",
      "dtypes: datetime64[ns](1), float64(2), int64(1), object(14)\n",
      "memory usage: 663.0+ KB\n"
     ]
    }
   ],
   "source": [
    "# Откроем файлы с данными\n",
    "df_da = pd.read_excel(r'https://getfile.dokpub.com/yandex/get/https://disk.yandex.ru/i/Kck9O3jZ8BvHVw')\n",
    "df_sa = pd.read_excel(r'https://getfile.dokpub.com/yandex/get/https://disk.yandex.ru/i/nyuKsJja8GuaiQ')\n",
    "\n",
    "# Добавим столбец с названием группы вакансий\n",
    "df_da['job'] = 'Дата аналитик'\n",
    "df_sa['job'] = 'Системный аналитик'\n",
    "\n",
    "# Объединим датасеты\n",
    "df = pd.concat([df_da, df_sa], ignore_index=True)\n",
    "\n",
    "df.info()"
   ]
  },
  {
   "cell_type": "markdown",
   "metadata": {},
   "source": [
    "### Пропуски\n",
    "\n",
    "В получившемся датасете имеется 4714 вакансий. В некоторых столбцах есть пропуски:\n",
    "- `department`: Подразделение компании, не интересно в рамках исследования;\n",
    "- `description_lemmatized`: Текст из поля `description`, приведенный к основной форме. При необходимости сделаем обработку;\n",
    "- `salary_from`, `salary_to`: Один из ключевых параметров, но сайт позволяет не указывать вилку при публикации вакансии. Если данные отсутствуют, отметим вакансии в поле `salary bin`."
   ]
  },
  {
   "cell_type": "markdown",
   "metadata": {},
   "source": [
    "### Типы данных\n",
    "\n",
    "Сформируем таблицу, содержащую одновременно типы данных и срез самих данных для проверки."
   ]
  },
  {
   "cell_type": "code",
   "execution_count": 103,
   "metadata": {},
   "outputs": [
    {
     "data": {
      "text/html": [
       "<div>\n",
       "<style scoped>\n",
       "    .dataframe tbody tr th:only-of-type {\n",
       "        vertical-align: middle;\n",
       "    }\n",
       "\n",
       "    .dataframe tbody tr th {\n",
       "        vertical-align: top;\n",
       "    }\n",
       "\n",
       "    .dataframe thead th {\n",
       "        text-align: right;\n",
       "    }\n",
       "</style>\n",
       "<table border=\"1\" class=\"dataframe\">\n",
       "  <thead>\n",
       "    <tr style=\"text-align: right;\">\n",
       "      <th></th>\n",
       "      <th>0</th>\n",
       "      <th>0</th>\n",
       "    </tr>\n",
       "  </thead>\n",
       "  <tbody>\n",
       "    <tr>\n",
       "      <th>id</th>\n",
       "      <td>int64</td>\n",
       "      <td>100039284</td>\n",
       "    </tr>\n",
       "    <tr>\n",
       "      <th>name</th>\n",
       "      <td>object</td>\n",
       "      <td>Junior аналитик данных (исследователь)</td>\n",
       "    </tr>\n",
       "    <tr>\n",
       "      <th>published_at</th>\n",
       "      <td>datetime64[ns]</td>\n",
       "      <td>2024-05-24 09:37:04</td>\n",
       "    </tr>\n",
       "    <tr>\n",
       "      <th>alternate_url</th>\n",
       "      <td>object</td>\n",
       "      <td>https://hh.ru/vacancy/100039284</td>\n",
       "    </tr>\n",
       "    <tr>\n",
       "      <th>type</th>\n",
       "      <td>object</td>\n",
       "      <td>Открытая</td>\n",
       "    </tr>\n",
       "    <tr>\n",
       "      <th>employer</th>\n",
       "      <td>object</td>\n",
       "      <td>DNS Головной офис</td>\n",
       "    </tr>\n",
       "    <tr>\n",
       "      <th>department</th>\n",
       "      <td>object</td>\n",
       "      <td>NaN</td>\n",
       "    </tr>\n",
       "    <tr>\n",
       "      <th>area</th>\n",
       "      <td>object</td>\n",
       "      <td>Владивосток</td>\n",
       "    </tr>\n",
       "    <tr>\n",
       "      <th>experience</th>\n",
       "      <td>object</td>\n",
       "      <td>Junior (no experince)</td>\n",
       "    </tr>\n",
       "    <tr>\n",
       "      <th>key_skills</th>\n",
       "      <td>object</td>\n",
       "      <td>['Power BI', 'СУБД', 'Python', 'SQL']</td>\n",
       "    </tr>\n",
       "    <tr>\n",
       "      <th>schedule</th>\n",
       "      <td>object</td>\n",
       "      <td>Полный день</td>\n",
       "    </tr>\n",
       "    <tr>\n",
       "      <th>employment</th>\n",
       "      <td>object</td>\n",
       "      <td>Полная занятость</td>\n",
       "    </tr>\n",
       "    <tr>\n",
       "      <th>description</th>\n",
       "      <td>object</td>\n",
       "      <td>наше направление занимается повышением эффекти...</td>\n",
       "    </tr>\n",
       "    <tr>\n",
       "      <th>description_lemmatized</th>\n",
       "      <td>object</td>\n",
       "      <td>наш направление заниматься повышение эффективн...</td>\n",
       "    </tr>\n",
       "    <tr>\n",
       "      <th>salary_from</th>\n",
       "      <td>float64</td>\n",
       "      <td>60000.0</td>\n",
       "    </tr>\n",
       "    <tr>\n",
       "      <th>salary_to</th>\n",
       "      <td>float64</td>\n",
       "      <td>NaN</td>\n",
       "    </tr>\n",
       "    <tr>\n",
       "      <th>salary_bin</th>\n",
       "      <td>object</td>\n",
       "      <td>ЗП не указана</td>\n",
       "    </tr>\n",
       "    <tr>\n",
       "      <th>job</th>\n",
       "      <td>object</td>\n",
       "      <td>Дата аналитик</td>\n",
       "    </tr>\n",
       "  </tbody>\n",
       "</table>\n",
       "</div>"
      ],
      "text/plain": [
       "                                     0  \\\n",
       "id                               int64   \n",
       "name                            object   \n",
       "published_at            datetime64[ns]   \n",
       "alternate_url                   object   \n",
       "type                            object   \n",
       "employer                        object   \n",
       "department                      object   \n",
       "area                            object   \n",
       "experience                      object   \n",
       "key_skills                      object   \n",
       "schedule                        object   \n",
       "employment                      object   \n",
       "description                     object   \n",
       "description_lemmatized          object   \n",
       "salary_from                    float64   \n",
       "salary_to                      float64   \n",
       "salary_bin                      object   \n",
       "job                             object   \n",
       "\n",
       "                                                                        0  \n",
       "id                                                              100039284  \n",
       "name                               Junior аналитик данных (исследователь)  \n",
       "published_at                                          2024-05-24 09:37:04  \n",
       "alternate_url                             https://hh.ru/vacancy/100039284  \n",
       "type                                                             Открытая  \n",
       "employer                                                DNS Головной офис  \n",
       "department                                                            NaN  \n",
       "area                                                          Владивосток  \n",
       "experience                                          Junior (no experince)  \n",
       "key_skills                          ['Power BI', 'СУБД', 'Python', 'SQL']  \n",
       "schedule                                                      Полный день  \n",
       "employment                                               Полная занятость  \n",
       "description             наше направление занимается повышением эффекти...  \n",
       "description_lemmatized  наш направление заниматься повышение эффективн...  \n",
       "salary_from                                                       60000.0  \n",
       "salary_to                                                             NaN  \n",
       "salary_bin                                                  ЗП не указана  \n",
       "job                                                         Дата аналитик  "
      ]
     },
     "execution_count": 103,
     "metadata": {},
     "output_type": "execute_result"
    }
   ],
   "source": [
    "pd.concat([df.dtypes, df.head(1).T], axis=1)"
   ]
  },
  {
   "cell_type": "markdown",
   "metadata": {},
   "source": [
    "Типы данных в столбцах определились успешно, конвертация не требуется. В поле key_skills находится список в виде строки. В блоке с анализом навыков выполним преобразование."
   ]
  },
  {
   "cell_type": "markdown",
   "metadata": {},
   "source": [
    "## Предобработка данных.\n",
    "\n",
    "### Добавление столбцов\n"
   ]
  },
  {
   "cell_type": "code",
   "execution_count": 104,
   "metadata": {},
   "outputs": [
    {
     "data": {
      "text/plain": [
       "0   2024-05-24\n",
       "1   2024-05-24\n",
       "2   2024-05-24\n",
       "3   2024-05-24\n",
       "4   2024-05-24\n",
       "Name: date, dtype: datetime64[ns]"
      ]
     },
     "execution_count": 104,
     "metadata": {},
     "output_type": "execute_result"
    }
   ],
   "source": [
    "# Вынесем дату публикации вакансии в отдельный столбец\n",
    "df['date'] = pd.to_datetime(df.published_at.dt.date)\n",
    "\n",
    "df['date'].head()"
   ]
  },
  {
   "cell_type": "code",
   "execution_count": 105,
   "metadata": {},
   "outputs": [
    {
     "data": {
      "text/plain": [
       "array(['Junior', 'Junior+', 'Middle', 'Senior'], dtype=object)"
      ]
     },
     "execution_count": 105,
     "metadata": {},
     "output_type": "execute_result"
    }
   ],
   "source": [
    "### Извлечем грейд из столбца experience\n",
    "df['grade'] = df.experience.apply(lambda x: x.split()[0])\n",
    "\n",
    "df.grade.unique()"
   ]
  },
  {
   "cell_type": "markdown",
   "metadata": {},
   "source": [
    "### Проверка дубликатов\n",
    "\n",
    "Поищем неявные дубликаты в столбцах, содержащих названия работодателей"
   ]
  },
  {
   "cell_type": "code",
   "execution_count": 106,
   "metadata": {},
   "outputs": [
    {
     "data": {
      "text/plain": [
       "array(['Яндекс', 'Яндекс Практикум'], dtype=object)"
      ]
     },
     "execution_count": 106,
     "metadata": {},
     "output_type": "execute_result"
    }
   ],
   "source": [
    "df[df.employer.str.contains('Яндекс')].employer.unique()"
   ]
  },
  {
   "cell_type": "code",
   "execution_count": 107,
   "metadata": {},
   "outputs": [
    {
     "data": {
      "text/plain": [
       "array(['СБЕР', 'СБЕР (ООО еАптека)', 'СБЕРКОРУС'], dtype=object)"
      ]
     },
     "execution_count": 107,
     "metadata": {},
     "output_type": "execute_result"
    }
   ],
   "source": [
    "df[df.employer.str.contains('СБЕР')].employer.unique()"
   ]
  },
  {
   "cell_type": "code",
   "execution_count": 108,
   "metadata": {},
   "outputs": [
    {
     "data": {
      "text/plain": [
       "array(['DNS Головной офис',\n",
       "       'Сеть магазинов цифровой и бытовой техники DNS', 'DNS Технологии'],\n",
       "      dtype=object)"
      ]
     },
     "execution_count": 108,
     "metadata": {},
     "output_type": "execute_result"
    }
   ],
   "source": [
    "df[df.employer.str.contains('DNS')].employer.unique()"
   ]
  },
  {
   "cell_type": "markdown",
   "metadata": {},
   "source": [
    "Данные содержат различные подразделения одной компании в столбце `employer`. Не смотря на это, у них различаются виды деятельности, как например СБЕР это банковский сектор, СБЕР-еаптека - оборот лекарственных средств. Будем рассматривать их как отдельных работодателей."
   ]
  },
  {
   "cell_type": "markdown",
   "metadata": {},
   "source": [
    "## Исследовательский анализ данных"
   ]
  },
  {
   "cell_type": "markdown",
   "metadata": {},
   "source": [
    "\n",
    "### Доли вакансий по грейдам\n",
    "\n",
    "Определим доли грейдов Junior, Junior+, Middle, Senior среди вакансий Аналитик данных и Системный аналитик."
   ]
  },
  {
   "cell_type": "code",
   "execution_count": 109,
   "metadata": {},
   "outputs": [
    {
     "data": {
      "text/html": [
       "<style type=\"text/css\">\n",
       "</style>\n",
       "<table id=\"T_bc85d\">\n",
       "  <thead>\n",
       "    <tr>\n",
       "      <th class=\"blank level0\" >&nbsp;</th>\n",
       "      <th id=\"T_bc85d_level0_col0\" class=\"col_heading level0 col0\" >job</th>\n",
       "      <th id=\"T_bc85d_level0_col1\" class=\"col_heading level0 col1\" >grade</th>\n",
       "      <th id=\"T_bc85d_level0_col2\" class=\"col_heading level0 col2\" >share</th>\n",
       "    </tr>\n",
       "  </thead>\n",
       "  <tbody>\n",
       "    <tr>\n",
       "      <th id=\"T_bc85d_level0_row0\" class=\"row_heading level0 row0\" >0</th>\n",
       "      <td id=\"T_bc85d_row0_col0\" class=\"data row0 col0\" >Дата аналитик</td>\n",
       "      <td id=\"T_bc85d_row0_col1\" class=\"data row0 col1\" >Junior</td>\n",
       "      <td id=\"T_bc85d_row0_col2\" class=\"data row0 col2\" >7.47%</td>\n",
       "    </tr>\n",
       "    <tr>\n",
       "      <th id=\"T_bc85d_level0_row1\" class=\"row_heading level0 row1\" >1</th>\n",
       "      <td id=\"T_bc85d_row1_col0\" class=\"data row1 col0\" >Дата аналитик</td>\n",
       "      <td id=\"T_bc85d_row1_col1\" class=\"data row1 col1\" >Junior+</td>\n",
       "      <td id=\"T_bc85d_row1_col2\" class=\"data row1 col2\" >59.56%</td>\n",
       "    </tr>\n",
       "    <tr>\n",
       "      <th id=\"T_bc85d_level0_row2\" class=\"row_heading level0 row2\" >2</th>\n",
       "      <td id=\"T_bc85d_row2_col0\" class=\"data row2 col0\" >Дата аналитик</td>\n",
       "      <td id=\"T_bc85d_row2_col1\" class=\"data row2 col1\" >Middle</td>\n",
       "      <td id=\"T_bc85d_row2_col2\" class=\"data row2 col2\" >31.80%</td>\n",
       "    </tr>\n",
       "    <tr>\n",
       "      <th id=\"T_bc85d_level0_row3\" class=\"row_heading level0 row3\" >3</th>\n",
       "      <td id=\"T_bc85d_row3_col0\" class=\"data row3 col0\" >Дата аналитик</td>\n",
       "      <td id=\"T_bc85d_row3_col1\" class=\"data row3 col1\" >Senior</td>\n",
       "      <td id=\"T_bc85d_row3_col2\" class=\"data row3 col2\" >1.18%</td>\n",
       "    </tr>\n",
       "    <tr>\n",
       "      <th id=\"T_bc85d_level0_row4\" class=\"row_heading level0 row4\" >4</th>\n",
       "      <td id=\"T_bc85d_row4_col0\" class=\"data row4 col0\" >Системный аналитик</td>\n",
       "      <td id=\"T_bc85d_row4_col1\" class=\"data row4 col1\" >Junior</td>\n",
       "      <td id=\"T_bc85d_row4_col2\" class=\"data row4 col2\" >4.49%</td>\n",
       "    </tr>\n",
       "    <tr>\n",
       "      <th id=\"T_bc85d_level0_row5\" class=\"row_heading level0 row5\" >5</th>\n",
       "      <td id=\"T_bc85d_row5_col0\" class=\"data row5 col0\" >Системный аналитик</td>\n",
       "      <td id=\"T_bc85d_row5_col1\" class=\"data row5 col1\" >Junior+</td>\n",
       "      <td id=\"T_bc85d_row5_col2\" class=\"data row5 col2\" >44.49%</td>\n",
       "    </tr>\n",
       "    <tr>\n",
       "      <th id=\"T_bc85d_level0_row6\" class=\"row_heading level0 row6\" >6</th>\n",
       "      <td id=\"T_bc85d_row6_col0\" class=\"data row6 col0\" >Системный аналитик</td>\n",
       "      <td id=\"T_bc85d_row6_col1\" class=\"data row6 col1\" >Middle</td>\n",
       "      <td id=\"T_bc85d_row6_col2\" class=\"data row6 col2\" >48.72%</td>\n",
       "    </tr>\n",
       "    <tr>\n",
       "      <th id=\"T_bc85d_level0_row7\" class=\"row_heading level0 row7\" >7</th>\n",
       "      <td id=\"T_bc85d_row7_col0\" class=\"data row7 col0\" >Системный аналитик</td>\n",
       "      <td id=\"T_bc85d_row7_col1\" class=\"data row7 col1\" >Senior</td>\n",
       "      <td id=\"T_bc85d_row7_col2\" class=\"data row7 col2\" >2.30%</td>\n",
       "    </tr>\n",
       "  </tbody>\n",
       "</table>\n"
      ],
      "text/plain": [
       "<pandas.io.formats.style.Styler at 0x24486ef5090>"
      ]
     },
     "execution_count": 109,
     "metadata": {},
     "output_type": "execute_result"
    }
   ],
   "source": [
    "# Посчитаем количество вакансий в каждой группе\n",
    "grade_counts = df[['job', 'grade']].value_counts().unstack()\n",
    "\n",
    "# Разделим каждое значение на сумму вакансий в его группе\n",
    "grade_share = grade_counts.div(grade_counts.sum(axis=1), axis=0).stack().reset_index()\n",
    "\n",
    "# Переименуем столбцы\n",
    "grade_share.columns = ['job', 'grade', 'share']\n",
    "\n",
    "# Выведем результат с форматированием столбца в виде %\n",
    "grade_share.style.format(\"{:.2%}\", subset='share')"
   ]
  },
  {
   "cell_type": "markdown",
   "metadata": {},
   "source": [
    "Построим диаграмму по этой таблице"
   ]
  },
  {
   "cell_type": "code",
   "execution_count": 110,
   "metadata": {},
   "outputs": [
    {
     "data": {
      "image/png": "[encoded data removed]",
      "text/plain": [
       "<Figure size 1200x600 with 1 Axes>"
      ]
     },
     "metadata": {},
     "output_type": "display_data"
    }
   ],
   "source": [
    "# Размер изображения\n",
    "plt.figure(figsize=(12, 6))\n",
    "\n",
    "# Построение и настройка диаграммы\n",
    "sns.barplot(x='grade', y='share', data=grade_share, hue='job', palette=[cmap.colors[4], cmap.colors[5]], zorder=2)\n",
    "plt.title('Доля вакансий по грейдам')\n",
    "plt.xlabel('Грейды')\n",
    "plt.ylabel('Доля')\n",
    "plt.grid(axis='y', zorder=0)\n",
    "plt.legend(title='Вакансия')\n",
    "\n",
    "# Вывод на экран\n",
    "plt.show()"
   ]
  },
  {
   "cell_type": "markdown",
   "metadata": {},
   "source": [
    "Доли вакансий по грейдам для системного и аналитика данных на рынке значительно различаются. \n",
    "- На рынке суммарный спрос на сотрудников как без опыта, так и Senior специалистов не превышает 10% от всех вакансий. \n",
    "- Самый популярный грейд для дата аналитика это Junior+ (опыт работы 1-3 года);\n",
    "- У системных аналитиков спрос смещен в сторону специалистов Middle (опыт работы 3-6 лет) уровня. \n"
   ]
  },
  {
   "cell_type": "markdown",
   "metadata": {},
   "source": [
    "### Характеристика  типичного места работы\n",
    "Составим характеристику самых распространенных условий труда, таких как:\n",
    "- ТОП 10 работодателей\n",
    "- Род деятельности (сектор) работодателей\n",
    "- Зарплатная вилка для разных грейдов\n",
    "- Тип занятости\n",
    "- График работы\n",
    "\n",
    "#### ТОП-10 работодателей\n",
    "Определим работодателей с самым большим количеством открытых вакансий. Построим heatmap, на котором увидим по каким грейдам распределены открытые вакансии."
   ]
  },
  {
   "cell_type": "code",
   "execution_count": 111,
   "metadata": {},
   "outputs": [],
   "source": [
    "# Составим функцию для построения хитмепа\n",
    "def top_employers(data: pd.DataFrame, job: str, n: int) -> None:\n",
    "    '''Функция для построения хитмепа для указанной должности для n работодателей с \n",
    "    самым большим количеством открытых вакансий.'''\n",
    "    heat = data[data.job == job].pivot_table(\n",
    "        index='employer',\n",
    "        columns='grade',\n",
    "        values='id',\n",
    "        aggfunc='count',\n",
    "        fill_value=0\n",
    "    )\n",
    "\n",
    "    # Добавим столбец с общим количеством открытых вакансий для определения топов\n",
    "    heat['Всего\\nвакансий'] = heat.sum(axis=1)\n",
    "\n",
    "    # Отсортируем таблицу, оставив только 10 записей\n",
    "    heat_top_n = heat.sort_values(by='Всего\\nвакансий', ascending=False).head(n)\n",
    "\n",
    "    # Настроим хитмап\n",
    "    plt.figure(figsize=(6,6))\n",
    "    sns.heatmap(data=heat_top_n, annot=True, fmt='.0f', vmax=100, cmap=cmap_cont)\n",
    "    plt.title('Топ 10 работодателей по открытым вакансиям\\nна должность Аналитик данных\\n')\n",
    "    plt.ylabel('Работодатель')\n",
    "    plt.xlabel('Грейд')\n",
    "\n",
    "    # Выведем диаграмму на экран\n",
    "    plt.show()"
   ]
  },
  {
   "cell_type": "markdown",
   "metadata": {},
   "source": [
    "##### Дата аналитики"
   ]
  },
  {
   "cell_type": "code",
   "execution_count": 112,
   "metadata": {},
   "outputs": [
    {
     "data": {
      "image/png": "[encoded data removed]",
      "text/plain": [
       "<Figure size 600x600 with 2 Axes>"
      ]
     },
     "metadata": {},
     "output_type": "display_data"
    }
   ],
   "source": [
    "top_employers(df, 'Дата аналитик', 10)"
   ]
  },
  {
   "cell_type": "markdown",
   "metadata": {},
   "source": [
    "- В топе присутствуют компании, относящиеся в основном к финансовому сектору, маркетплейсам, и ИТ компаниям.\n",
    "- Среди первой десятки с огромным отрывом лидирует СБЕР, открывший в 10 раз больше вакансий чем остальные работодатели.\n",
    "- Кроме СБЕРа никто из ТОПа не набирает специалистов уровня Senior."
   ]
  },
  {
   "cell_type": "markdown",
   "metadata": {},
   "source": [
    "##### Системные аналитики"
   ]
  },
  {
   "cell_type": "code",
   "execution_count": 113,
   "metadata": {},
   "outputs": [
    {
     "data": {
      "image/png": "[encoded data removed]",
      "text/plain": [
       "<Figure size 600x600 with 2 Axes>"
      ]
     },
     "metadata": {},
     "output_type": "display_data"
    }
   ],
   "source": [
    "top_employers(df, 'Системный аналитик', 10)"
   ]
  },
  {
   "cell_type": "markdown",
   "metadata": {},
   "source": [
    "- В топе преимущественно присутствуют работодатели из фин-сектора и ИТ-технологические компании.\n",
    "- На первом месте, также как и с Аналитиками данных, находится СБЕР, но уже без кратного отрыва по количеству вакансий."
   ]
  },
  {
   "cell_type": "markdown",
   "metadata": {},
   "source": [
    "##### Промежуточный вывод\n",
    "- На аналитиков обоих направлений имеется спрос в основном в:\n",
    "    - Банки;\n",
    "    - ИТ-технологии;\n",
    "    - Операторы связи;\n",
    "    - Продуктовые сети и маркетплейсы.\n",
    "- Среди работодателей выделяется СБЕР, открывший наибольшее количество вакансий по всем направлениям;\n",
    "- Сотрудников без опыта почти никто не набирает;\n",
    "- Сотрудников уровня Senior тоже мало подбирают через сайт, вероятно используются иные каналы привлечения. "
   ]
  },
  {
   "cell_type": "markdown",
   "metadata": {},
   "source": [
    "#### Спрос по грейдам\n",
    "\n",
    "Составим топ работодателей для каждого грейда в отдельности."
   ]
  },
  {
   "cell_type": "code",
   "execution_count": 114,
   "metadata": {},
   "outputs": [
    {
     "data": {
      "text/html": [
       "<div>\n",
       "<style scoped>\n",
       "    .dataframe tbody tr th:only-of-type {\n",
       "        vertical-align: middle;\n",
       "    }\n",
       "\n",
       "    .dataframe tbody tr th {\n",
       "        vertical-align: top;\n",
       "    }\n",
       "\n",
       "    .dataframe thead tr th {\n",
       "        text-align: left;\n",
       "    }\n",
       "</style>\n",
       "<table border=\"1\" class=\"dataframe\">\n",
       "  <thead>\n",
       "    <tr>\n",
       "      <th></th>\n",
       "      <th colspan=\"4\" halign=\"left\">Дата аналитик</th>\n",
       "      <th colspan=\"4\" halign=\"left\">Системный аналитик</th>\n",
       "    </tr>\n",
       "    <tr>\n",
       "      <th></th>\n",
       "      <th>Junior</th>\n",
       "      <th>Junior+</th>\n",
       "      <th>Middle</th>\n",
       "      <th>Senior</th>\n",
       "      <th>Junior</th>\n",
       "      <th>Junior+</th>\n",
       "      <th>Middle</th>\n",
       "      <th>Senior</th>\n",
       "    </tr>\n",
       "  </thead>\n",
       "  <tbody>\n",
       "    <tr>\n",
       "      <th>0</th>\n",
       "      <td>СБЕР</td>\n",
       "      <td>СБЕР</td>\n",
       "      <td>СБЕР</td>\n",
       "      <td>Леруа Мерлен</td>\n",
       "      <td>Aston</td>\n",
       "      <td>СБЕР</td>\n",
       "      <td>Т1</td>\n",
       "      <td>Т1</td>\n",
       "    </tr>\n",
       "    <tr>\n",
       "      <th>1</th>\n",
       "      <td>МАГНИТ, Розничная сеть</td>\n",
       "      <td>Банк ВТБ (ПАО)</td>\n",
       "      <td>Т1</td>\n",
       "      <td>Онлайн-школа Тетрика</td>\n",
       "      <td>Компания Апогей (1С-франчайзи)</td>\n",
       "      <td>Aston</td>\n",
       "      <td>СБЕР</td>\n",
       "      <td>Яндекс</td>\n",
       "    </tr>\n",
       "    <tr>\n",
       "      <th>2</th>\n",
       "      <td>DNS Технологии</td>\n",
       "      <td>ПСБ (ПАО «Промсвязьбанк»)</td>\n",
       "      <td>WILDBERRIES</td>\n",
       "      <td>СБЕР</td>\n",
       "      <td>TWIGA Communication Group</td>\n",
       "      <td>Совкомбанк Технологии</td>\n",
       "      <td>Aston</td>\n",
       "      <td>Mediascope</td>\n",
       "    </tr>\n",
       "    <tr>\n",
       "      <th>3</th>\n",
       "      <td>МПК (Призыванет.Ру)</td>\n",
       "      <td>Ozon</td>\n",
       "      <td>Ozon</td>\n",
       "      <td>Яндекс</td>\n",
       "      <td>Дунайс</td>\n",
       "      <td>Т1</td>\n",
       "      <td>ПСБ (ПАО «Промсвязьбанк»)</td>\n",
       "      <td>БФТ-Холдинг (Бюджетные и Финансовые Технологии)</td>\n",
       "    </tr>\n",
       "    <tr>\n",
       "      <th>4</th>\n",
       "      <td>Ozon</td>\n",
       "      <td>Правительство Москвы</td>\n",
       "      <td>Aston</td>\n",
       "      <td>Reinvent Baltics</td>\n",
       "      <td>Ред Софт</td>\n",
       "      <td>Красное &amp; Белое, розничная сеть</td>\n",
       "      <td>Т-Банк</td>\n",
       "      <td>ТестОпс</td>\n",
       "    </tr>\n",
       "    <tr>\n",
       "      <th>5</th>\n",
       "      <td>Согласие, страховая компания</td>\n",
       "      <td>МТС</td>\n",
       "      <td>Яндекс</td>\n",
       "      <td>НОВАТЭК</td>\n",
       "      <td>Т1</td>\n",
       "      <td>Selecty</td>\n",
       "      <td>Прикладные технологии</td>\n",
       "      <td>ГРУППА МЕГАПОЛИС</td>\n",
       "    </tr>\n",
       "    <tr>\n",
       "      <th>6</th>\n",
       "      <td>ANCOR</td>\n",
       "      <td>WILDBERRIES</td>\n",
       "      <td>Okko</td>\n",
       "      <td>Мамаева Ирина Анатольевна</td>\n",
       "      <td>Центр финансовых технологий</td>\n",
       "      <td>Ростелеком Информационные Технологии</td>\n",
       "      <td>Совкомбанк Технологии</td>\n",
       "      <td>РНКБ Банк (ПАО)</td>\n",
       "    </tr>\n",
       "    <tr>\n",
       "      <th>7</th>\n",
       "      <td>Полюс</td>\n",
       "      <td>Okko</td>\n",
       "      <td>Контур</td>\n",
       "      <td>CarMoney</td>\n",
       "      <td>Спектр</td>\n",
       "      <td>ПСБ (ПАО «Промсвязьбанк»)</td>\n",
       "      <td>билайн</td>\n",
       "      <td>Группа компаний Астра</td>\n",
       "    </tr>\n",
       "    <tr>\n",
       "      <th>8</th>\n",
       "      <td>Aston</td>\n",
       "      <td>Ростелеком</td>\n",
       "      <td>USETECH</td>\n",
       "      <td>АО «ОТП Банк» (JSC «OTP Bank»)</td>\n",
       "      <td>IBS</td>\n",
       "      <td>Лига Цифровой Экономики</td>\n",
       "      <td>Центральный банк Российской Федерации</td>\n",
       "      <td>Эквирон</td>\n",
       "    </tr>\n",
       "    <tr>\n",
       "      <th>9</th>\n",
       "      <td>РЕСО-Гарантия, САО</td>\n",
       "      <td>МАГНИТ, Розничная сеть</td>\n",
       "      <td>Московская Биржа</td>\n",
       "      <td>Медиапоинт</td>\n",
       "      <td>СБЕР</td>\n",
       "      <td>VILAVI</td>\n",
       "      <td>МТС</td>\n",
       "      <td>Кловер Групп</td>\n",
       "    </tr>\n",
       "  </tbody>\n",
       "</table>\n",
       "</div>"
      ],
      "text/plain": [
       "                  Дата аналитик                                               \\\n",
       "                         Junior                    Junior+            Middle   \n",
       "0                          СБЕР                       СБЕР              СБЕР   \n",
       "1        МАГНИТ, Розничная сеть             Банк ВТБ (ПАО)                Т1   \n",
       "2                DNS Технологии  ПСБ (ПАО «Промсвязьбанк»)       WILDBERRIES   \n",
       "3           МПК (Призыванет.Ру)                       Ozon              Ozon   \n",
       "4                          Ozon       Правительство Москвы             Aston   \n",
       "5  Согласие, страховая компания                        МТС            Яндекс   \n",
       "6                         ANCOR                WILDBERRIES              Okko   \n",
       "7                         Полюс                       Okko            Контур   \n",
       "8                         Aston                 Ростелеком           USETECH   \n",
       "9            РЕСО-Гарантия, САО     МАГНИТ, Розничная сеть  Московская Биржа   \n",
       "\n",
       "                                               Системный аналитик  \\\n",
       "                           Senior                          Junior   \n",
       "0                    Леруа Мерлен                           Aston   \n",
       "1            Онлайн-школа Тетрика  Компания Апогей (1С-франчайзи)   \n",
       "2                            СБЕР       TWIGA Communication Group   \n",
       "3                          Яндекс                          Дунайс   \n",
       "4                Reinvent Baltics                        Ред Софт   \n",
       "5                         НОВАТЭК                              Т1   \n",
       "6       Мамаева Ирина Анатольевна     Центр финансовых технологий   \n",
       "7                        CarMoney                          Спектр   \n",
       "8  АО «ОТП Банк» (JSC «OTP Bank»)                             IBS   \n",
       "9                      Медиапоинт                            СБЕР   \n",
       "\n",
       "                                         \\\n",
       "                                Junior+   \n",
       "0                                  СБЕР   \n",
       "1                                 Aston   \n",
       "2                 Совкомбанк Технологии   \n",
       "3                                    Т1   \n",
       "4       Красное & Белое, розничная сеть   \n",
       "5                               Selecty   \n",
       "6  Ростелеком Информационные Технологии   \n",
       "7             ПСБ (ПАО «Промсвязьбанк»)   \n",
       "8               Лига Цифровой Экономики   \n",
       "9                                VILAVI   \n",
       "\n",
       "                                          \\\n",
       "                                  Middle   \n",
       "0                                     Т1   \n",
       "1                                   СБЕР   \n",
       "2                                  Aston   \n",
       "3              ПСБ (ПАО «Промсвязьбанк»)   \n",
       "4                                 Т-Банк   \n",
       "5                  Прикладные технологии   \n",
       "6                  Совкомбанк Технологии   \n",
       "7                                 билайн   \n",
       "8  Центральный банк Российской Федерации   \n",
       "9                                    МТС   \n",
       "\n",
       "                                                    \n",
       "                                            Senior  \n",
       "0                                               Т1  \n",
       "1                                           Яндекс  \n",
       "2                                       Mediascope  \n",
       "3  БФТ-Холдинг (Бюджетные и Финансовые Технологии)  \n",
       "4                                          ТестОпс  \n",
       "5                                 ГРУППА МЕГАПОЛИС  \n",
       "6                                  РНКБ Банк (ПАО)  \n",
       "7                            Группа компаний Астра  \n",
       "8                                          Эквирон  \n",
       "9                                     Кловер Групп  "
      ]
     },
     "execution_count": 114,
     "metadata": {},
     "output_type": "execute_result"
    }
   ],
   "source": [
    "# Создадим функцию для составления топов\n",
    "def get_top(df: pd.DataFrame, job: str, grade: str, n: int) -> pd.DataFrame:\n",
    "    '''Функция определяет топ n работодателей по количеству открытых вакансий для переданных параметров.'''\n",
    "    # Сформируем сводную\n",
    "    result = (\n",
    "        df[(df.job == job) & (df.grade == grade)]\n",
    "        .employer\n",
    "        .value_counts(ascending=False)\n",
    "        .head(n)\n",
    "    ).index.to_frame() \n",
    "\n",
    "    # Создадим иерархию в названии столбца\n",
    "    result.columns = pd.MultiIndex.from_tuples([(job, grade)])\n",
    "\n",
    "    # Вернем результат\n",
    "    return result.reset_index(drop=True)\n",
    "\n",
    "\n",
    "# Создадим пустой датафрейм для сбора результатов\n",
    "top_by_job_grade = pd.DataFrame()\n",
    "\n",
    "# Выполним цикл для определения топ-10 работодателей для каждого вида вакансии\n",
    "for job in df.job.unique():\n",
    "    for grade in df.grade.unique():\n",
    "        top_by_job_grade = pd.concat([top_by_job_grade, get_top(df, job, grade, 10)], axis=1)\n",
    "\n",
    "# Выведем результат\n",
    "top_by_job_grade"
   ]
  },
  {
   "cell_type": "markdown",
   "metadata": {},
   "source": [
    "##### Промежуточный вывод\n",
    "Самые частые работодатели для Аналитика данных:\n",
    "- Банки: СБЕР, ВТБ, ЦБ\n",
    "- Маркетплейсы: WILDBERRIES, Ozon\n",
    "- Телекоммуникционные компании: МТС, Ростелеком\n",
    "\n",
    "Для системных аналитиков:\n",
    "- Банки: СБЕР, Совкомбанк, Т-Банк\n",
    "- ИТ-технологии: Т1, Aston, Ред Софт, 1С, Яндекс"
   ]
  },
  {
   "cell_type": "markdown",
   "metadata": {},
   "source": [
    "#### Зарплатная вилка\n",
    "Оценим распределение зарплатных предложений. Для начала посмотрим, сколько вакансий содержат записи с зарплатной вилкой.\n",
    "\n",
    "##### Вакансии без данных"
   ]
  },
  {
   "cell_type": "code",
   "execution_count": 115,
   "metadata": {},
   "outputs": [
    {
     "data": {
      "text/html": [
       "<div>\n",
       "<style scoped>\n",
       "    .dataframe tbody tr th:only-of-type {\n",
       "        vertical-align: middle;\n",
       "    }\n",
       "\n",
       "    .dataframe tbody tr th {\n",
       "        vertical-align: top;\n",
       "    }\n",
       "\n",
       "    .dataframe thead th {\n",
       "        text-align: right;\n",
       "    }\n",
       "</style>\n",
       "<table border=\"1\" class=\"dataframe\">\n",
       "  <thead>\n",
       "    <tr style=\"text-align: right;\">\n",
       "      <th></th>\n",
       "      <th>salary_bin</th>\n",
       "      <th>count</th>\n",
       "    </tr>\n",
       "  </thead>\n",
       "  <tbody>\n",
       "    <tr>\n",
       "      <th>0</th>\n",
       "      <td>ЗП не указана</td>\n",
       "      <td>3963</td>\n",
       "    </tr>\n",
       "    <tr>\n",
       "      <th>1</th>\n",
       "      <td>От 100K до 200K</td>\n",
       "      <td>270</td>\n",
       "    </tr>\n",
       "    <tr>\n",
       "      <th>2</th>\n",
       "      <td>Меньше 100K</td>\n",
       "      <td>213</td>\n",
       "    </tr>\n",
       "    <tr>\n",
       "      <th>3</th>\n",
       "      <td>От 200K до 300K</td>\n",
       "      <td>149</td>\n",
       "    </tr>\n",
       "    <tr>\n",
       "      <th>4</th>\n",
       "      <td>Больше 300K</td>\n",
       "      <td>119</td>\n",
       "    </tr>\n",
       "  </tbody>\n",
       "</table>\n",
       "</div>"
      ],
      "text/plain": [
       "        salary_bin  count\n",
       "0    ЗП не указана   3963\n",
       "1  От 100K до 200K    270\n",
       "2      Меньше 100K    213\n",
       "3  От 200K до 300K    149\n",
       "4      Больше 300K    119"
      ]
     },
     "execution_count": 115,
     "metadata": {},
     "output_type": "execute_result"
    }
   ],
   "source": [
    "df.salary_bin.value_counts().reset_index()"
   ]
  },
  {
   "cell_type": "code",
   "execution_count": 116,
   "metadata": {},
   "outputs": [
    {
     "name": "stdout",
     "output_type": "stream",
     "text": [
      "В 84% вакансий зарплата не указана.\n"
     ]
    }
   ],
   "source": [
    "# Посчитаем долю вакансий без данных о зарплате\n",
    "print(f\"В {df[df.salary_bin == 'ЗП не указана'].shape[0] / df.shape[0]:.0%} вакансий зарплата не указана.\")"
   ]
  },
  {
   "cell_type": "markdown",
   "metadata": {},
   "source": [
    "Посмотрим для каких грейдов чаще не указывают зарплату."
   ]
  },
  {
   "cell_type": "code",
   "execution_count": 117,
   "metadata": {},
   "outputs": [
    {
     "data": {
      "image/png": "[encoded data removed]",
      "text/plain": [
       "<Figure size 600x400 with 1 Axes>"
      ]
     },
     "metadata": {},
     "output_type": "display_data"
    }
   ],
   "source": [
    "# Соберем таблицу, в одном столбце будет общее количество вакансий, во втором количество вакансий без данных о ЗП\n",
    "no_salary = pd.concat([df.grade.value_counts(), df[df.salary_bin == 'ЗП не указана'].grade.value_counts()], axis=1)\n",
    "\n",
    "# Переименуем столбцы\n",
    "no_salary.columns = ['total', 'no_data']\n",
    "\n",
    "# Посчитаем доли\n",
    "no_salary['share'] = no_salary.no_data / no_salary.total\n",
    "\n",
    "# Настроим диаграмму\n",
    "plt.figure(figsize=(6, 4))\n",
    "sns.barplot(data=no_salary.reset_index().sort_values(by='share', ascending=False), x='grade', y='share', color=cmap.colors[-1])\n",
    "plt.ylim(0, 1)\n",
    "plt.ylabel('Доля')\n",
    "plt.xlabel('Грейд')\n",
    "plt.title('Доля скрытых сведений о зарплате\\nв вакансиях по грейдам\\n')\n",
    "\n",
    "# Выведем на экран\n",
    "plt.show()"
   ]
  },
  {
   "cell_type": "markdown",
   "metadata": {},
   "source": [
    "Чаще всего зарплату не указывают для грейда Middle, а у Junior (без опыта) наибольшее количество открытых данных."
   ]
  },
  {
   "cell_type": "markdown",
   "metadata": {},
   "source": [
    "##### Зарплаты по грейдам"
   ]
  },
  {
   "cell_type": "code",
   "execution_count": 118,
   "metadata": {},
   "outputs": [],
   "source": [
    "# Создадим функцию\n",
    "def salary_share_heatmap(df: pd.DataFrame, job: str) -> None:\n",
    "    '''Построение хитмепа с долями вакансий по зарплатным предложениям и грейдам.'''\n",
    "    index_order = [\n",
    "        'Меньше 100K', \n",
    "        'От 100K до 200K', \n",
    "        'От 200K до 300K', \n",
    "        'Больше 300K']\n",
    "\n",
    "    # Отфильтруем данные и сделаем сводную таблицу\n",
    "    salary_pivoted = (\n",
    "        df[(df.salary_bin != 'ЗП не указана') & (df.job == job)]\n",
    "        .pivot_table(\n",
    "            index='salary_bin', \n",
    "            columns='grade', \n",
    "            values='id', \n",
    "            aggfunc='count', \n",
    "            fill_value=0\n",
    "            )\n",
    "        .reindex(index_order)\n",
    "    )\n",
    "\n",
    "    # Добавим столбец, в котором посчитаем долю вакансий в рамках грейда\n",
    "    salary_share = salary_pivoted.div(salary_pivoted.sum(axis=0), axis=1)\n",
    "\n",
    "    # Построим и настроим хитмап\n",
    "    plt.figure(figsize=(6, 5))\n",
    "    sns.heatmap(data=salary_share, cmap=cmap, fmt='.0%', annot=True)\n",
    "    plt.ylabel('Зарплата')\n",
    "    plt.xlabel('Грейд')\n",
    "    plt.title(f'Распределение зарплатных предложений в долях по грейдам\\nдля вакансий {job}\\n')\n",
    "\n",
    "    # Отобразим диаграмму\n",
    "    plt.show()"
   ]
  },
  {
   "cell_type": "markdown",
   "metadata": {},
   "source": [
    "##### Дата аналитики"
   ]
  },
  {
   "cell_type": "code",
   "execution_count": 119,
   "metadata": {},
   "outputs": [
    {
     "data": {
      "image/png": "[encoded data removed]",
      "text/plain": [
       "<Figure size 600x500 with 2 Axes>"
      ]
     },
     "metadata": {},
     "output_type": "display_data"
    }
   ],
   "source": [
    "salary_share_heatmap(df, 'Дата аналитик')"
   ]
  },
  {
   "cell_type": "markdown",
   "metadata": {},
   "source": [
    "- В вакансиях дата аналитиков распределение зарплат на высоких грейдах очень разнобразное.\n",
    "- Специалисты Junior и Junior+ чаще оцениваются до 200к;\n",
    "- Начиная с Middle уровня можно претендовать на больший спектр зарплат, в зависимости от специализации."
   ]
  },
  {
   "cell_type": "markdown",
   "metadata": {},
   "source": [
    "##### Системные аналитики"
   ]
  },
  {
   "cell_type": "code",
   "execution_count": 120,
   "metadata": {},
   "outputs": [
    {
     "data": {
      "image/png": "[encoded data removed]",
      "text/plain": [
       "<Figure size 600x500 with 2 Axes>"
      ]
     },
     "metadata": {},
     "output_type": "display_data"
    }
   ],
   "source": [
    "salary_share_heatmap(df, 'Системный аналитик')"
   ]
  },
  {
   "cell_type": "markdown",
   "metadata": {},
   "source": [
    "- На диаграмме заметна выраженная корреляция зарплатных предложений и грейда кандидата;\n",
    "- Системным аналитикам уровня Junior+ чаще предлагают от 100 до 300к, но уже на Middle уровне половина предложений составляет 300+;\n",
    "- Есть выбросы в виде предложений от 300к в категории уровня Junior.\n",
    "\n",
    "Посмотрим на выбросы"
   ]
  },
  {
   "cell_type": "code",
   "execution_count": 121,
   "metadata": {},
   "outputs": [
    {
     "data": {
      "text/html": [
       "<div>\n",
       "<style scoped>\n",
       "    .dataframe tbody tr th:only-of-type {\n",
       "        vertical-align: middle;\n",
       "    }\n",
       "\n",
       "    .dataframe tbody tr th {\n",
       "        vertical-align: top;\n",
       "    }\n",
       "\n",
       "    .dataframe thead th {\n",
       "        text-align: right;\n",
       "    }\n",
       "</style>\n",
       "<table border=\"1\" class=\"dataframe\">\n",
       "  <thead>\n",
       "    <tr style=\"text-align: right;\">\n",
       "      <th></th>\n",
       "      <th>employer</th>\n",
       "      <th>description</th>\n",
       "      <th>key_skills</th>\n",
       "    </tr>\n",
       "  </thead>\n",
       "  <tbody>\n",
       "    <tr>\n",
       "      <th>3475</th>\n",
       "      <td>Offer Now</td>\n",
       "      <td>обязанности:  написание технического задание на разработку выявление потребности бизнеса описание функциональный и не функциональных требований проектирование баз данных поддержание актуальности документации  требования:  умение писать понятную документацию наличие высшего it образования  знание sql опыт проектирования интеграций, как синхронны...</td>\n",
       "      <td>['Документация']</td>\n",
       "    </tr>\n",
       "    <tr>\n",
       "      <th>4158</th>\n",
       "      <td>Консалт Плюс</td>\n",
       "      <td>компания отвечает за создание и развитие высоконагруженной корпоративной системы. мы гордимся тем, что нашими заказчиками являются ведущие холдинги и госкорпорации, предприятия промышленности, топливо-энергетические и финансовые организации. главная ценность нашей компании — это люди, которые в ней работают. в нашей команде собраны специалисты ...</td>\n",
       "      <td>['REST', 'SQL', 'Atlassian Jira', 'Документация', 'Agile', 'UML', 'confluence', 'BPMN', 'Коммуникация', 'OpenAPI', 'Системный анализ', 'Atlassian Confluence']</td>\n",
       "    </tr>\n",
       "  </tbody>\n",
       "</table>\n",
       "</div>"
      ],
      "text/plain": [
       "          employer  \\\n",
       "3475     Offer Now   \n",
       "4158  Консалт Плюс   \n",
       "\n",
       "                                                                                                                                                                                                                                                                                                                                                        description  \\\n",
       "3475  обязанности:  написание технического задание на разработку выявление потребности бизнеса описание функциональный и не функциональных требований проектирование баз данных поддержание актуальности документации  требования:  умение писать понятную документацию наличие высшего it образования  знание sql опыт проектирования интеграций, как синхронны...   \n",
       "4158  компания отвечает за создание и развитие высоконагруженной корпоративной системы. мы гордимся тем, что нашими заказчиками являются ведущие холдинги и госкорпорации, предприятия промышленности, топливо-энергетические и финансовые организации. главная ценность нашей компании — это люди, которые в ней работают. в нашей команде собраны специалисты ...   \n",
       "\n",
       "                                                                                                                                                          key_skills  \n",
       "3475                                                                                                                                                ['Документация']  \n",
       "4158  ['REST', 'SQL', 'Atlassian Jira', 'Документация', 'Agile', 'UML', 'confluence', 'BPMN', 'Коммуникация', 'OpenAPI', 'Системный анализ', 'Atlassian Confluence']  "
      ]
     },
     "metadata": {},
     "output_type": "display_data"
    }
   ],
   "source": [
    "pd.set_option('display.max_colwidth', 350)\n",
    "\n",
    "outliers = df.query(\"job == 'Системный аналитик' and grade == 'Junior' and salary_bin == 'Больше 300K'\")[['employer', 'description', 'key_skills']]\n",
    "display(outliers)\n",
    "\n",
    "pd.set_option('display.max_colwidth', 50)"
   ]
  },
  {
   "cell_type": "markdown",
   "metadata": {},
   "source": [
    "Судя по описанию и требуемым навыкам налицо ошибка в категоризации."
   ]
  },
  {
   "cell_type": "markdown",
   "metadata": {},
   "source": [
    "##### Промежуточный вывод\n",
    "\n",
    "Очень часто в вакансиях отсутствуют данные о зарплатных предложениях. В исследуемом сете только 18% записей заполнены. Больше всего информации по вакансиям уровня Junior.\n",
    "Аналитики данных:\n",
    "- В вакансиях дата аналитиков распределение зарплат на высоких грейдах очень разнобразное.\n",
    "- Специалисты Junior и Junior+ чаще оцениваются до 200к;\n",
    "- Начиная с Middle уровня можно претендовать на больший спектр зарплат, в зависимости от специализации.\n",
    "\n",
    "Системные аналитики:\n",
    "- На диаграмме заметна выраженная корреляция зарплатных предложений и грейда кандидата;\n",
    "- Системным аналитикам уровня Junior+ чаще предлагают от 100 до 300к, но уже на Middle уровне половина предложений составляет 300+;\n",
    "- Есть выбросы в виде предложений от 300к в категории уровня Junior.\n"
   ]
  },
  {
   "cell_type": "markdown",
   "metadata": {},
   "source": [
    "#### Тип занятости\n"
   ]
  },
  {
   "cell_type": "code",
   "execution_count": 122,
   "metadata": {},
   "outputs": [
    {
     "data": {
      "text/plain": [
       "'Системный аналитик'"
      ]
     },
     "metadata": {},
     "output_type": "display_data"
    },
    {
     "data": {
      "text/html": [
       "<style type=\"text/css\">\n",
       "#T_e8366_row0_col0, #T_e8366_row0_col1, #T_e8366_row0_col2, #T_e8366_row0_col3 {\n",
       "  background-color: #a12a19;\n",
       "  color: #f1f1f1;\n",
       "}\n",
       "#T_e8366_row1_col0 {\n",
       "  background-color: #a0a78e;\n",
       "  color: #f1f1f1;\n",
       "}\n",
       "#T_e8366_row1_col1, #T_e8366_row1_col2, #T_e8366_row1_col3, #T_e8366_row2_col1, #T_e8366_row2_col3, #T_e8366_row3_col0, #T_e8366_row3_col1, #T_e8366_row3_col2, #T_e8366_row3_col3 {\n",
       "  background-color: #f4e7c5;\n",
       "  color: #000000;\n",
       "}\n",
       "#T_e8366_row2_col0 {\n",
       "  background-color: #e9dfc1;\n",
       "  color: #000000;\n",
       "}\n",
       "#T_e8366_row2_col2 {\n",
       "  background-color: #f1e5c4;\n",
       "  color: #000000;\n",
       "}\n",
       "</style>\n",
       "<table id=\"T_e8366\">\n",
       "  <thead>\n",
       "    <tr>\n",
       "      <th class=\"index_name level0\" >grade</th>\n",
       "      <th id=\"T_e8366_level0_col0\" class=\"col_heading level0 col0\" >Junior</th>\n",
       "      <th id=\"T_e8366_level0_col1\" class=\"col_heading level0 col1\" >Junior+</th>\n",
       "      <th id=\"T_e8366_level0_col2\" class=\"col_heading level0 col2\" >Middle</th>\n",
       "      <th id=\"T_e8366_level0_col3\" class=\"col_heading level0 col3\" >Senior</th>\n",
       "    </tr>\n",
       "    <tr>\n",
       "      <th class=\"index_name level0\" >employment</th>\n",
       "      <th class=\"blank col0\" >&nbsp;</th>\n",
       "      <th class=\"blank col1\" >&nbsp;</th>\n",
       "      <th class=\"blank col2\" >&nbsp;</th>\n",
       "      <th class=\"blank col3\" >&nbsp;</th>\n",
       "    </tr>\n",
       "  </thead>\n",
       "  <tbody>\n",
       "    <tr>\n",
       "      <th id=\"T_e8366_level0_row0\" class=\"row_heading level0 row0\" >Полная занятость</th>\n",
       "      <td id=\"T_e8366_row0_col0\" class=\"data row0 col0\" >56</td>\n",
       "      <td id=\"T_e8366_row0_col1\" class=\"data row0 col1\" >851</td>\n",
       "      <td id=\"T_e8366_row0_col2\" class=\"data row0 col2\" >926</td>\n",
       "      <td id=\"T_e8366_row0_col3\" class=\"data row0 col3\" >44</td>\n",
       "    </tr>\n",
       "    <tr>\n",
       "      <th id=\"T_e8366_level0_row1\" class=\"row_heading level0 row1\" >Стажировка</th>\n",
       "      <td id=\"T_e8366_row1_col0\" class=\"data row1 col0\" >29</td>\n",
       "      <td id=\"T_e8366_row1_col1\" class=\"data row1 col1\" >0</td>\n",
       "      <td id=\"T_e8366_row1_col2\" class=\"data row1 col2\" >0</td>\n",
       "      <td id=\"T_e8366_row1_col3\" class=\"data row1 col3\" >0</td>\n",
       "    </tr>\n",
       "    <tr>\n",
       "      <th id=\"T_e8366_level0_row2\" class=\"row_heading level0 row2\" >Частичная занятость</th>\n",
       "      <td id=\"T_e8366_row2_col0\" class=\"data row2 col0\" >1</td>\n",
       "      <td id=\"T_e8366_row2_col1\" class=\"data row2 col1\" >0</td>\n",
       "      <td id=\"T_e8366_row2_col2\" class=\"data row2 col2\" >5</td>\n",
       "      <td id=\"T_e8366_row2_col3\" class=\"data row2 col3\" >0</td>\n",
       "    </tr>\n",
       "    <tr>\n",
       "      <th id=\"T_e8366_level0_row3\" class=\"row_heading level0 row3\" >Проектная работа</th>\n",
       "      <td id=\"T_e8366_row3_col0\" class=\"data row3 col0\" >0</td>\n",
       "      <td id=\"T_e8366_row3_col1\" class=\"data row3 col1\" >1</td>\n",
       "      <td id=\"T_e8366_row3_col2\" class=\"data row3 col2\" >2</td>\n",
       "      <td id=\"T_e8366_row3_col3\" class=\"data row3 col3\" >0</td>\n",
       "    </tr>\n",
       "  </tbody>\n",
       "</table>\n"
      ],
      "text/plain": [
       "<pandas.io.formats.style.Styler at 0x2448ae2d090>"
      ]
     },
     "metadata": {},
     "output_type": "display_data"
    },
    {
     "data": {
      "text/plain": [
       "'Дата аналитик'"
      ]
     },
     "metadata": {},
     "output_type": "display_data"
    },
    {
     "data": {
      "text/html": [
       "<style type=\"text/css\">\n",
       "#T_48dd9_row0_col0, #T_48dd9_row0_col1, #T_48dd9_row0_col2, #T_48dd9_row0_col3 {\n",
       "  background-color: #a12a19;\n",
       "  color: #f1f1f1;\n",
       "}\n",
       "#T_48dd9_row1_col0 {\n",
       "  background-color: #8596a0;\n",
       "  color: #f1f1f1;\n",
       "}\n",
       "#T_48dd9_row1_col1, #T_48dd9_row1_col2, #T_48dd9_row1_col3, #T_48dd9_row2_col3, #T_48dd9_row3_col0, #T_48dd9_row3_col1, #T_48dd9_row3_col2, #T_48dd9_row3_col3 {\n",
       "  background-color: #f4e7c5;\n",
       "  color: #000000;\n",
       "}\n",
       "#T_48dd9_row2_col0 {\n",
       "  background-color: #e9dfc1;\n",
       "  color: #000000;\n",
       "}\n",
       "#T_48dd9_row2_col1 {\n",
       "  background-color: #f1e5c4;\n",
       "  color: #000000;\n",
       "}\n",
       "#T_48dd9_row2_col2 {\n",
       "  background-color: #eee3c3;\n",
       "  color: #000000;\n",
       "}\n",
       "</style>\n",
       "<table id=\"T_48dd9\">\n",
       "  <thead>\n",
       "    <tr>\n",
       "      <th class=\"index_name level0\" >grade</th>\n",
       "      <th id=\"T_48dd9_level0_col0\" class=\"col_heading level0 col0\" >Junior</th>\n",
       "      <th id=\"T_48dd9_level0_col1\" class=\"col_heading level0 col1\" >Junior+</th>\n",
       "      <th id=\"T_48dd9_level0_col2\" class=\"col_heading level0 col2\" >Middle</th>\n",
       "      <th id=\"T_48dd9_level0_col3\" class=\"col_heading level0 col3\" >Senior</th>\n",
       "    </tr>\n",
       "    <tr>\n",
       "      <th class=\"index_name level0\" >employment</th>\n",
       "      <th class=\"blank col0\" >&nbsp;</th>\n",
       "      <th class=\"blank col1\" >&nbsp;</th>\n",
       "      <th class=\"blank col2\" >&nbsp;</th>\n",
       "      <th class=\"blank col3\" >&nbsp;</th>\n",
       "    </tr>\n",
       "  </thead>\n",
       "  <tbody>\n",
       "    <tr>\n",
       "      <th id=\"T_48dd9_level0_row0\" class=\"row_heading level0 row0\" >Полная занятость</th>\n",
       "      <td id=\"T_48dd9_row0_col0\" class=\"data row0 col0\" >173</td>\n",
       "      <td id=\"T_48dd9_row0_col1\" class=\"data row0 col1\" >1646</td>\n",
       "      <td id=\"T_48dd9_row0_col2\" class=\"data row0 col2\" >880</td>\n",
       "      <td id=\"T_48dd9_row0_col3\" class=\"data row0 col3\" >33</td>\n",
       "    </tr>\n",
       "    <tr>\n",
       "      <th id=\"T_48dd9_level0_row1\" class=\"row_heading level0 row1\" >Стажировка</th>\n",
       "      <td id=\"T_48dd9_row1_col0\" class=\"data row1 col0\" >29</td>\n",
       "      <td id=\"T_48dd9_row1_col1\" class=\"data row1 col1\" >4</td>\n",
       "      <td id=\"T_48dd9_row1_col2\" class=\"data row1 col2\" >0</td>\n",
       "      <td id=\"T_48dd9_row1_col3\" class=\"data row1 col3\" >0</td>\n",
       "    </tr>\n",
       "    <tr>\n",
       "      <th id=\"T_48dd9_level0_row2\" class=\"row_heading level0 row2\" >Частичная занятость</th>\n",
       "      <td id=\"T_48dd9_row2_col0\" class=\"data row2 col0\" >5</td>\n",
       "      <td id=\"T_48dd9_row2_col1\" class=\"data row2 col1\" >13</td>\n",
       "      <td id=\"T_48dd9_row2_col2\" class=\"data row2 col2\" >9</td>\n",
       "      <td id=\"T_48dd9_row2_col3\" class=\"data row2 col3\" >0</td>\n",
       "    </tr>\n",
       "    <tr>\n",
       "      <th id=\"T_48dd9_level0_row3\" class=\"row_heading level0 row3\" >Проектная работа</th>\n",
       "      <td id=\"T_48dd9_row3_col0\" class=\"data row3 col0\" >2</td>\n",
       "      <td id=\"T_48dd9_row3_col1\" class=\"data row3 col1\" >4</td>\n",
       "      <td id=\"T_48dd9_row3_col2\" class=\"data row3 col2\" >1</td>\n",
       "      <td id=\"T_48dd9_row3_col3\" class=\"data row3 col3\" >0</td>\n",
       "    </tr>\n",
       "  </tbody>\n",
       "</table>\n"
      ],
      "text/plain": [
       "<pandas.io.formats.style.Styler at 0x2448ae5e8d0>"
      ]
     },
     "metadata": {},
     "output_type": "display_data"
    }
   ],
   "source": [
    "# Создадим функцию \n",
    "def employment_type(df: pd.DataFrame, job: str) -> pd.DataFrame:\n",
    "    '''Функция формирует сводную и добавляет форматирование'''\n",
    "    result = (\n",
    "        df[df.job == job]\n",
    "        .pivot_table(\n",
    "            index='employment', \n",
    "            columns='grade', \n",
    "            values='id', \n",
    "            aggfunc='count', \n",
    "            fill_value=0\n",
    "        ).sort_values(by='Junior', ascending=False)\n",
    "        .style\n",
    "        .format(\"{:.0f}\")\n",
    "        .background_gradient(cmap=cmap_cont)\n",
    "    )\n",
    "    \n",
    "    return result\n",
    "\n",
    "\n",
    "# Выведем таблицы на экран\n",
    "display('Системный аналитик')\n",
    "display(employment_type(df, 'Системный аналитик'))\n",
    "display('Дата аналитик')\n",
    "display(employment_type(df, 'Дата аналитик'))"
   ]
  },
  {
   "cell_type": "markdown",
   "metadata": {},
   "source": [
    "##### Промежуточный вывод\n",
    "- Преимущественно набор ведется на полную занятость; \n",
    "- Стажировку предлагают только кандидатам Junior;\n",
    "- Частичная занятость встречается чаще среди вакансий дата аналитиков."
   ]
  },
  {
   "cell_type": "markdown",
   "metadata": {},
   "source": [
    "#### График работы\n",
    "\n",
    "Посмотрим в каком графике работают специалисты разных грейдов"
   ]
  },
  {
   "cell_type": "code",
   "execution_count": 123,
   "metadata": {},
   "outputs": [
    {
     "data": {
      "text/plain": [
       "'Системный аналитик'"
      ]
     },
     "metadata": {},
     "output_type": "display_data"
    },
    {
     "data": {
      "text/html": [
       "<style type=\"text/css\">\n",
       "#T_25304_row0_col0, #T_25304_row0_col1, #T_25304_row0_col2, #T_25304_row0_col3 {\n",
       "  background-color: #a12a19;\n",
       "  color: #f1f1f1;\n",
       "}\n",
       "#T_25304_row1_col0 {\n",
       "  background-color: #9a9b72;\n",
       "  color: #f1f1f1;\n",
       "}\n",
       "#T_25304_row1_col1 {\n",
       "  background-color: #a4b1a6;\n",
       "  color: #000000;\n",
       "}\n",
       "#T_25304_row1_col2 {\n",
       "  background-color: #989665;\n",
       "  color: #f1f1f1;\n",
       "}\n",
       "#T_25304_row1_col3 {\n",
       "  background-color: #ad7b4e;\n",
       "  color: #f1f1f1;\n",
       "}\n",
       "#T_25304_row2_col0 {\n",
       "  background-color: #a1aaa9;\n",
       "  color: #f1f1f1;\n",
       "}\n",
       "#T_25304_row2_col1 {\n",
       "  background-color: #c8c7b6;\n",
       "  color: #000000;\n",
       "}\n",
       "#T_25304_row2_col2 {\n",
       "  background-color: #e1d9bf;\n",
       "  color: #000000;\n",
       "}\n",
       "#T_25304_row2_col3 {\n",
       "  background-color: #bdbfb3;\n",
       "  color: #000000;\n",
       "}\n",
       "#T_25304_row3_col0, #T_25304_row3_col1, #T_25304_row3_col2, #T_25304_row3_col3 {\n",
       "  background-color: #f4e7c5;\n",
       "  color: #000000;\n",
       "}\n",
       "</style>\n",
       "<table id=\"T_25304\">\n",
       "  <thead>\n",
       "    <tr>\n",
       "      <th class=\"index_name level0\" >grade</th>\n",
       "      <th id=\"T_25304_level0_col0\" class=\"col_heading level0 col0\" >Junior</th>\n",
       "      <th id=\"T_25304_level0_col1\" class=\"col_heading level0 col1\" >Junior+</th>\n",
       "      <th id=\"T_25304_level0_col2\" class=\"col_heading level0 col2\" >Middle</th>\n",
       "      <th id=\"T_25304_level0_col3\" class=\"col_heading level0 col3\" >Senior</th>\n",
       "    </tr>\n",
       "    <tr>\n",
       "      <th class=\"index_name level0\" >schedule</th>\n",
       "      <th class=\"blank col0\" >&nbsp;</th>\n",
       "      <th class=\"blank col1\" >&nbsp;</th>\n",
       "      <th class=\"blank col2\" >&nbsp;</th>\n",
       "      <th class=\"blank col3\" >&nbsp;</th>\n",
       "    </tr>\n",
       "  </thead>\n",
       "  <tbody>\n",
       "    <tr>\n",
       "      <th id=\"T_25304_level0_row0\" class=\"row_heading level0 row0\" >Полный день</th>\n",
       "      <td id=\"T_25304_row0_col0\" class=\"data row0 col0\" >51</td>\n",
       "      <td id=\"T_25304_row0_col1\" class=\"data row0 col1\" >553</td>\n",
       "      <td id=\"T_25304_row0_col2\" class=\"data row0 col2\" >574</td>\n",
       "      <td id=\"T_25304_row0_col3\" class=\"data row0 col3\" >25</td>\n",
       "    </tr>\n",
       "    <tr>\n",
       "      <th id=\"T_25304_level0_row1\" class=\"row_heading level0 row1\" >Удаленная работа</th>\n",
       "      <td id=\"T_25304_row1_col0\" class=\"data row1 col0\" >29</td>\n",
       "      <td id=\"T_25304_row1_col1\" class=\"data row1 col1\" >263</td>\n",
       "      <td id=\"T_25304_row1_col2\" class=\"data row1 col2\" >341</td>\n",
       "      <td id=\"T_25304_row1_col3\" class=\"data row1 col3\" >17</td>\n",
       "    </tr>\n",
       "    <tr>\n",
       "      <th id=\"T_25304_level0_row2\" class=\"row_heading level0 row2\" >Гибкий график</th>\n",
       "      <td id=\"T_25304_row2_col0\" class=\"data row2 col0\" >6</td>\n",
       "      <td id=\"T_25304_row2_col1\" class=\"data row2 col1\" >36</td>\n",
       "      <td id=\"T_25304_row2_col2\" class=\"data row2 col2\" >17</td>\n",
       "      <td id=\"T_25304_row2_col3\" class=\"data row2 col3\" >2</td>\n",
       "    </tr>\n",
       "    <tr>\n",
       "      <th id=\"T_25304_level0_row3\" class=\"row_heading level0 row3\" >Сменный график</th>\n",
       "      <td id=\"T_25304_row3_col0\" class=\"data row3 col0\" >0</td>\n",
       "      <td id=\"T_25304_row3_col1\" class=\"data row3 col1\" >0</td>\n",
       "      <td id=\"T_25304_row3_col2\" class=\"data row3 col2\" >1</td>\n",
       "      <td id=\"T_25304_row3_col3\" class=\"data row3 col3\" >0</td>\n",
       "    </tr>\n",
       "  </tbody>\n",
       "</table>\n"
      ],
      "text/plain": [
       "<pandas.io.formats.style.Styler at 0x2448ae21450>"
      ]
     },
     "metadata": {},
     "output_type": "display_data"
    },
    {
     "data": {
      "text/plain": [
       "'Дата аналитик'"
      ]
     },
     "metadata": {},
     "output_type": "display_data"
    },
    {
     "data": {
      "text/html": [
       "<style type=\"text/css\">\n",
       "#T_98135_row0_col0, #T_98135_row0_col1, #T_98135_row0_col2, #T_98135_row0_col3 {\n",
       "  background-color: #a12a19;\n",
       "  color: #f1f1f1;\n",
       "}\n",
       "#T_98135_row1_col0 {\n",
       "  background-color: #a4acaa;\n",
       "  color: #f1f1f1;\n",
       "}\n",
       "#T_98135_row1_col1 {\n",
       "  background-color: #83949f;\n",
       "  color: #f1f1f1;\n",
       "}\n",
       "#T_98135_row1_col2 {\n",
       "  background-color: #9cb2c2;\n",
       "  color: #000000;\n",
       "}\n",
       "#T_98135_row1_col3 {\n",
       "  background-color: #a9bfcd;\n",
       "  color: #000000;\n",
       "}\n",
       "#T_98135_row2_col0 {\n",
       "  background-color: #eee3c3;\n",
       "  color: #000000;\n",
       "}\n",
       "#T_98135_row2_col1 {\n",
       "  background-color: #ece1c2;\n",
       "  color: #000000;\n",
       "}\n",
       "#T_98135_row2_col2 {\n",
       "  background-color: #ded7be;\n",
       "  color: #000000;\n",
       "}\n",
       "#T_98135_row2_col3 {\n",
       "  background-color: #d6d1bb;\n",
       "  color: #000000;\n",
       "}\n",
       "#T_98135_row3_col0, #T_98135_row3_col1, #T_98135_row3_col2, #T_98135_row3_col3 {\n",
       "  background-color: #f4e7c5;\n",
       "  color: #000000;\n",
       "}\n",
       "</style>\n",
       "<table id=\"T_98135\">\n",
       "  <thead>\n",
       "    <tr>\n",
       "      <th class=\"index_name level0\" >grade</th>\n",
       "      <th id=\"T_98135_level0_col0\" class=\"col_heading level0 col0\" >Junior</th>\n",
       "      <th id=\"T_98135_level0_col1\" class=\"col_heading level0 col1\" >Junior+</th>\n",
       "      <th id=\"T_98135_level0_col2\" class=\"col_heading level0 col2\" >Middle</th>\n",
       "      <th id=\"T_98135_level0_col3\" class=\"col_heading level0 col3\" >Senior</th>\n",
       "    </tr>\n",
       "    <tr>\n",
       "      <th class=\"index_name level0\" >schedule</th>\n",
       "      <th class=\"blank col0\" >&nbsp;</th>\n",
       "      <th class=\"blank col1\" >&nbsp;</th>\n",
       "      <th class=\"blank col2\" >&nbsp;</th>\n",
       "      <th class=\"blank col3\" >&nbsp;</th>\n",
       "    </tr>\n",
       "  </thead>\n",
       "  <tbody>\n",
       "    <tr>\n",
       "      <th id=\"T_98135_level0_row0\" class=\"row_heading level0 row0\" >Полный день</th>\n",
       "      <td id=\"T_98135_row0_col0\" class=\"data row0 col0\" >175</td>\n",
       "      <td id=\"T_98135_row0_col1\" class=\"data row0 col1\" >1379</td>\n",
       "      <td id=\"T_98135_row0_col2\" class=\"data row0 col2\" >642</td>\n",
       "      <td id=\"T_98135_row0_col3\" class=\"data row0 col3\" >23</td>\n",
       "    </tr>\n",
       "    <tr>\n",
       "      <th id=\"T_98135_level0_row1\" class=\"row_heading level0 row1\" >Удаленная работа</th>\n",
       "      <td id=\"T_98135_row1_col0\" class=\"data row1 col0\" >24</td>\n",
       "      <td id=\"T_98135_row1_col1\" class=\"data row1 col1\" >235</td>\n",
       "      <td id=\"T_98135_row1_col2\" class=\"data row1 col2\" >226</td>\n",
       "      <td id=\"T_98135_row1_col3\" class=\"data row1 col3\" >9</td>\n",
       "    </tr>\n",
       "    <tr>\n",
       "      <th id=\"T_98135_level0_row2\" class=\"row_heading level0 row2\" >Гибкий график</th>\n",
       "      <td id=\"T_98135_row2_col0\" class=\"data row2 col0\" >6</td>\n",
       "      <td id=\"T_98135_row2_col1\" class=\"data row2 col1\" >37</td>\n",
       "      <td id=\"T_98135_row2_col2\" class=\"data row2 col2\" >22</td>\n",
       "      <td id=\"T_98135_row2_col3\" class=\"data row2 col3\" >1</td>\n",
       "    </tr>\n",
       "    <tr>\n",
       "      <th id=\"T_98135_level0_row3\" class=\"row_heading level0 row3\" >Сменный график</th>\n",
       "      <td id=\"T_98135_row3_col0\" class=\"data row3 col0\" >4</td>\n",
       "      <td id=\"T_98135_row3_col1\" class=\"data row3 col1\" >16</td>\n",
       "      <td id=\"T_98135_row3_col2\" class=\"data row3 col2\" >0</td>\n",
       "      <td id=\"T_98135_row3_col3\" class=\"data row3 col3\" >0</td>\n",
       "    </tr>\n",
       "  </tbody>\n",
       "</table>\n"
      ],
      "text/plain": [
       "<pandas.io.formats.style.Styler at 0x2448aea7c90>"
      ]
     },
     "metadata": {},
     "output_type": "display_data"
    }
   ],
   "source": [
    "# Создадим функцию \n",
    "def schedule_type(df: pd.DataFrame, job: str) -> pd.DataFrame:\n",
    "    '''Функция формирует сводную и добавляет форматирование'''\n",
    "    result = (\n",
    "        df[df.job == job]\n",
    "        .pivot_table(\n",
    "            index='schedule', \n",
    "            columns='grade', \n",
    "            values='id', \n",
    "            aggfunc='count', \n",
    "            fill_value=0\n",
    "        ).sort_values(by='Middle', ascending=False)\n",
    "        .style\n",
    "        .format(\"{:.0f}\")\n",
    "        .background_gradient(cmap=cmap_cont)\n",
    "    )\n",
    "    \n",
    "    return result\n",
    "\n",
    "\n",
    "# Выведем таблицы на экран\n",
    "display('Системный аналитик')\n",
    "display(schedule_type(df, 'Системный аналитик'))\n",
    "display('Дата аналитик')\n",
    "display(schedule_type(df, 'Дата аналитик'))"
   ]
  },
  {
   "cell_type": "markdown",
   "metadata": {},
   "source": [
    "##### Промежуточный вывод\n",
    "- Чаще всего работа предполагает присутствие в офисе на полный рабочий день;\n",
    "- Удаленная работа для Junior предлагается крайне редко;\n",
    "- Гибкий и сменный график встречается редко."
   ]
  },
  {
   "cell_type": "markdown",
   "metadata": {},
   "source": [
    "### Виды навыков \n",
    "\n",
    "Рассмотрим навыки кандидатов, разделим их на soft и hard, определим, какие встречаются чаще."
   ]
  },
  {
   "cell_type": "code",
   "execution_count": 124,
   "metadata": {},
   "outputs": [
    {
     "name": "stdout",
     "output_type": "stream",
     "text": [
      "['Power BI', 'СУБД', 'Python', 'SQL']\n"
     ]
    },
    {
     "data": {
      "text/plain": [
       "str"
      ]
     },
     "execution_count": 124,
     "metadata": {},
     "output_type": "execute_result"
    }
   ],
   "source": [
    "print(df.key_skills[0])\n",
    "\n",
    "type(df.key_skills[0])"
   ]
  },
  {
   "cell_type": "markdown",
   "metadata": {},
   "source": [
    "Данные хранятся в виде строки в форме списка list(). Очистим строку от символов скобок и кавычек, после чего сформируем корректный список."
   ]
  },
  {
   "cell_type": "code",
   "execution_count": 125,
   "metadata": {},
   "outputs": [
    {
     "data": {
      "text/html": [
       "<div>\n",
       "<style scoped>\n",
       "    .dataframe tbody tr th:only-of-type {\n",
       "        vertical-align: middle;\n",
       "    }\n",
       "\n",
       "    .dataframe tbody tr th {\n",
       "        vertical-align: top;\n",
       "    }\n",
       "\n",
       "    .dataframe thead th {\n",
       "        text-align: right;\n",
       "    }\n",
       "</style>\n",
       "<table border=\"1\" class=\"dataframe\">\n",
       "  <thead>\n",
       "    <tr style=\"text-align: right;\">\n",
       "      <th></th>\n",
       "      <th>key_skills</th>\n",
       "      <th>count</th>\n",
       "    </tr>\n",
       "  </thead>\n",
       "  <tbody>\n",
       "    <tr>\n",
       "      <th>0</th>\n",
       "      <td>sql</td>\n",
       "      <td>1812</td>\n",
       "    </tr>\n",
       "    <tr>\n",
       "      <th>1</th>\n",
       "      <td>документация</td>\n",
       "      <td>1571</td>\n",
       "    </tr>\n",
       "    <tr>\n",
       "      <th>2</th>\n",
       "      <td></td>\n",
       "      <td>946</td>\n",
       "    </tr>\n",
       "    <tr>\n",
       "      <th>3</th>\n",
       "      <td>python</td>\n",
       "      <td>923</td>\n",
       "    </tr>\n",
       "    <tr>\n",
       "      <th>4</th>\n",
       "      <td>аналитическое мышление</td>\n",
       "      <td>741</td>\n",
       "    </tr>\n",
       "    <tr>\n",
       "      <th>5</th>\n",
       "      <td>confluence</td>\n",
       "      <td>701</td>\n",
       "    </tr>\n",
       "    <tr>\n",
       "      <th>6</th>\n",
       "      <td>bpmn</td>\n",
       "      <td>664</td>\n",
       "    </tr>\n",
       "    <tr>\n",
       "      <th>7</th>\n",
       "      <td>анализ данных</td>\n",
       "      <td>604</td>\n",
       "    </tr>\n",
       "    <tr>\n",
       "      <th>8</th>\n",
       "      <td>системный анализ</td>\n",
       "      <td>597</td>\n",
       "    </tr>\n",
       "    <tr>\n",
       "      <th>9</th>\n",
       "      <td>uml</td>\n",
       "      <td>579</td>\n",
       "    </tr>\n",
       "  </tbody>\n",
       "</table>\n",
       "</div>"
      ],
      "text/plain": [
       "               key_skills  count\n",
       "0                     sql   1812\n",
       "1            документация   1571\n",
       "2                            946\n",
       "3                  python    923\n",
       "4  аналитическое мышление    741\n",
       "5              confluence    701\n",
       "6                    bpmn    664\n",
       "7           анализ данных    604\n",
       "8        системный анализ    597\n",
       "9                     uml    579"
      ]
     },
     "execution_count": 125,
     "metadata": {},
     "output_type": "execute_result"
    }
   ],
   "source": [
    "(df.key_skills\n",
    "    .apply(lambda x: x.strip('[]') # уберем квадратные скобки\n",
    "    .replace(\"'\", '')              # уберем лишние кавычки\n",
    "    .lower()                       # приведем текст к нижнему регистру\n",
    "    .split(', '))                  # превратим в список\n",
    "    .explode()                     # вытянем значения списков в ячейках в общий вертикальный список\n",
    "    .value_counts()                # посчитаем частоту появления требований\n",
    ").reset_index().head(10)"
   ]
  },
  {
   "cell_type": "markdown",
   "metadata": {},
   "source": [
    "Из получившейся таблицы видно, что среди всех вакансий самыми распространенными требованиями являются Документация и SQL. Но в получившемся списке нет деления на soft и hard. С помощью нейросети выделим из данных только soft скиллы."
   ]
  },
  {
   "cell_type": "code",
   "execution_count": 126,
   "metadata": {},
   "outputs": [],
   "source": [
    "soft_skills = [\n",
    "    'аналитическое мышление',\n",
    "    'коммуникация',\n",
    "    'работа с большим объемом информации',\n",
    "    'проактивность',\n",
    "    'переговоры',\n",
    "    'работа в команде',\n",
    "    'деловая коммуникация',\n",
    "    'аналитический склад ума',\n",
    "    'системное мышление',\n",
    "    'подготовка презентаций',\n",
    "    'аналитические способности',\n",
    "    'креативность',\n",
    "    'системный подход',\n",
    "    'организаторские навыки',\n",
    "    'обучение и развитие',\n",
    "    'ответственность',\n",
    "    'грамотная речь',\n",
    "    'деловая переписка',\n",
    "    'навыки презентации',\n",
    "    'управление командой',\n",
    "    'критическое мышление',\n",
    "    'точность и внимательность к деталям',\n",
    "    'умение принимать решения',\n",
    "    'удаленная работа',\n",
    "    'наставничество',\n",
    "    'проведение презентаций',\n",
    "    'навыки переговоров',\n",
    "    'коммуникабельность',\n",
    "    'планирование',\n",
    "    'аналитические навыки',\n",
    "    'менеджмент',\n",
    "    'умение работать в коллективе',\n",
    "    'ориентация на результат',\n",
    "    'доброжелательность',\n",
    "    'деловое общение',\n",
    "    'способность к саморазвитию',\n",
    "    'адаптивность',\n",
    "    'решение проблем',\n",
    "    'инициативность и лидерство',\n",
    "    'коммуникативная гибкость',\n",
    "    'системность мышления',\n",
    "    'ведение отчетности',\n",
    "    'принятие решений',\n",
    "    'грамотность',\n",
    "    'оценка рисков',\n",
    "    'тайм-менеджмент',\n",
    "    'амбициозность',\n",
    "    'стрессоустойчивость',\n",
    "    'внимание к деталям',\n",
    "    'стратегическое мышление',\n",
    "    'грамотная речь и письмо',\n",
    "    'умение работать в команде',\n",
    "    'логическое мышление',\n",
    "    'руководство коллективом',\n",
    "    'презентация результатов',\n",
    "    'клиентоориентированность',\n",
    "    'ведение переписки',\n",
    "    'поиск информации в интернет',\n",
    "    'умение работать в команде',\n",
    "    'критическое мышление',\n",
    "    'планирование',\n",
    "    'доброжелательность',\n",
    "    \"Проведение телефонных интервью\",\n",
    "    \"Деловая коммуникация\",\n",
    "    \"Общение с клиентами\",\n",
    "    \"Работа в условиях многозадачности\",\n",
    "    \"Скрупулезность\",\n",
    "    \"Инициативность в решении задач\",\n",
    "    \"Желание постоянно развиваться\",\n",
    "    \"Внимательность\",\n",
    "    \"Ответственный подход к работе\",\n",
    "    \"Дружелюбие\",\n",
    "    \"Обучаемость\",\n",
    "    \"Готовность обучаться\",\n",
    "    \"Гибкость мышления\",\n",
    "    \"Желание развиваться\",\n",
    "    \"Умение анализировать\",\n",
    "    \"Добросовестность\",\n",
    "    \"Мотивированность\",\n",
    "    \"Эмпатия\",\n",
    "    \"Навыки межличностного общения\",\n",
    "    \"Деловая коммуникация\",\n",
    "    \"Навыки продаж\",\n",
    "    \"Организация совещаний\",\n",
    "    \"Организация мероприятий\",\n",
    "    \"Инициативность\",\n",
    "    \"Выстраивание метрик\",\n",
    "    \"Руководство командой\",\n",
    "    \"Управление временем\",\n",
    "    \"Управление ожиданиями\",\n",
    "    \"Способность к систематизации\",\n",
    "    \"Умение легко находить контакт с людьми\",\n",
    "    \"Способность эффективно решать проблемы\",\n",
    "    \"Внимательность к деталям\",\n",
    "    \"Желание зарабатывать\",\n",
    "    \"Коммуникативные навыки\",\n",
    "    \"Лидерство\",\n",
    "    \"Усидчивость\",\n",
    "    \"Умение анализировать информацию\",\n",
    "    \"Планирование и организация\",\n",
    "    \"Умение работать в условиях многозадачности\",\n",
    "    \"Системное мышление\",\n",
    "    \"Активная позиция\",\n",
    "    \"Интерес и широкий кругозор\",\n",
    "    \"Желание работать и развиваться\",\n",
    "    \"Письменная коммуникация\",\n",
    "    \"Ориентация на клиента\",\n",
    "    \"Организационные навыки\",\n",
    "    \"Целеустремленность\",\n",
    "    \"Ведение переговоров\",\n",
    "    \"Управление персоналом\",\n",
    "    \"Рекрутмент\",\n",
    "    \"Управление продажами\",\n",
    "    \"Прогнозирование продаж\"\n",
    "]\n"
   ]
  },
  {
   "cell_type": "markdown",
   "metadata": {},
   "source": [
    "Так как в данных навыки представлены в одном поле, сформируем таблицу, где вид вакансии и грейд выделим в индекс, а колонку с навыками расширим."
   ]
  },
  {
   "cell_type": "code",
   "execution_count": 127,
   "metadata": {},
   "outputs": [
    {
     "data": {
      "text/html": [
       "<div>\n",
       "<style scoped>\n",
       "    .dataframe tbody tr th:only-of-type {\n",
       "        vertical-align: middle;\n",
       "    }\n",
       "\n",
       "    .dataframe tbody tr th {\n",
       "        vertical-align: top;\n",
       "    }\n",
       "\n",
       "    .dataframe thead th {\n",
       "        text-align: right;\n",
       "    }\n",
       "</style>\n",
       "<table border=\"1\" class=\"dataframe\">\n",
       "  <thead>\n",
       "    <tr style=\"text-align: right;\">\n",
       "      <th></th>\n",
       "      <th>job</th>\n",
       "      <th>grade</th>\n",
       "      <th>key_skills</th>\n",
       "    </tr>\n",
       "  </thead>\n",
       "  <tbody>\n",
       "    <tr>\n",
       "      <th>0</th>\n",
       "      <td>Дата аналитик</td>\n",
       "      <td>Junior</td>\n",
       "      <td>[power bi, субд, python, sql]</td>\n",
       "    </tr>\n",
       "    <tr>\n",
       "      <th>1</th>\n",
       "      <td>Дата аналитик</td>\n",
       "      <td>Junior</td>\n",
       "      <td>[ms sql, работа с базами данных, ms excel]</td>\n",
       "    </tr>\n",
       "    <tr>\n",
       "      <th>2</th>\n",
       "      <td>Дата аналитик</td>\n",
       "      <td>Junior+</td>\n",
       "      <td>[sql, power bi, субд, python, clickhouse, bpmn]</td>\n",
       "    </tr>\n",
       "    <tr>\n",
       "      <th>3</th>\n",
       "      <td>Дата аналитик</td>\n",
       "      <td>Junior+</td>\n",
       "      <td>[анализ данных, коммуникация, sql, ms office, ...</td>\n",
       "    </tr>\n",
       "    <tr>\n",
       "      <th>4</th>\n",
       "      <td>Дата аналитик</td>\n",
       "      <td>Middle</td>\n",
       "      <td>[документация]</td>\n",
       "    </tr>\n",
       "  </tbody>\n",
       "</table>\n",
       "</div>"
      ],
      "text/plain": [
       "             job    grade                                         key_skills\n",
       "0  Дата аналитик   Junior                      [power bi, субд, python, sql]\n",
       "1  Дата аналитик   Junior         [ms sql, работа с базами данных, ms excel]\n",
       "2  Дата аналитик  Junior+    [sql, power bi, субд, python, clickhouse, bpmn]\n",
       "3  Дата аналитик  Junior+  [анализ данных, коммуникация, sql, ms office, ...\n",
       "4  Дата аналитик   Middle                                     [документация]"
      ]
     },
     "execution_count": 127,
     "metadata": {},
     "output_type": "execute_result"
    }
   ],
   "source": [
    "# Отфильтруем необходимые поля\n",
    "df_skills = df[['job', 'grade', 'key_skills']].dropna()\n",
    "\n",
    "# Обработаем поле с навыками как в примере выше\n",
    "df_skills.key_skills = df_skills.key_skills.apply(\n",
    "    lambda x: (x.strip('[]')\n",
    "                .replace(\"'\", '')\n",
    "                .lower()\n",
    "                .split(', '))\n",
    ")\n",
    "\n",
    "df_skills.head()"
   ]
  },
  {
   "cell_type": "markdown",
   "metadata": {},
   "source": [
    "Раскроем список вниз, повторяя ключи (вакансию и грейды)."
   ]
  },
  {
   "cell_type": "code",
   "execution_count": 128,
   "metadata": {},
   "outputs": [
    {
     "data": {
      "text/html": [
       "<div>\n",
       "<style scoped>\n",
       "    .dataframe tbody tr th:only-of-type {\n",
       "        vertical-align: middle;\n",
       "    }\n",
       "\n",
       "    .dataframe tbody tr th {\n",
       "        vertical-align: top;\n",
       "    }\n",
       "\n",
       "    .dataframe thead th {\n",
       "        text-align: right;\n",
       "    }\n",
       "</style>\n",
       "<table border=\"1\" class=\"dataframe\">\n",
       "  <thead>\n",
       "    <tr style=\"text-align: right;\">\n",
       "      <th></th>\n",
       "      <th></th>\n",
       "      <th>key_skills</th>\n",
       "    </tr>\n",
       "    <tr>\n",
       "      <th>job</th>\n",
       "      <th>grade</th>\n",
       "      <th></th>\n",
       "    </tr>\n",
       "  </thead>\n",
       "  <tbody>\n",
       "    <tr>\n",
       "      <th rowspan=\"5\" valign=\"top\">Дата аналитик</th>\n",
       "      <th>Junior</th>\n",
       "      <td>power bi</td>\n",
       "    </tr>\n",
       "    <tr>\n",
       "      <th>Junior</th>\n",
       "      <td>субд</td>\n",
       "    </tr>\n",
       "    <tr>\n",
       "      <th>Junior</th>\n",
       "      <td>python</td>\n",
       "    </tr>\n",
       "    <tr>\n",
       "      <th>Junior</th>\n",
       "      <td>sql</td>\n",
       "    </tr>\n",
       "    <tr>\n",
       "      <th>Junior</th>\n",
       "      <td>ms sql</td>\n",
       "    </tr>\n",
       "  </tbody>\n",
       "</table>\n",
       "</div>"
      ],
      "text/plain": [
       "                     key_skills\n",
       "job           grade            \n",
       "Дата аналитик Junior   power bi\n",
       "              Junior       субд\n",
       "              Junior     python\n",
       "              Junior        sql\n",
       "              Junior     ms sql"
      ]
     },
     "execution_count": 128,
     "metadata": {},
     "output_type": "execute_result"
    }
   ],
   "source": [
    "df_skills = df_skills.set_index(['job', 'grade']).explode('key_skills').dropna()\n",
    "\n",
    "df_skills.head()"
   ]
  },
  {
   "cell_type": "markdown",
   "metadata": {},
   "source": [
    "Теперь добавим столбец с категорией навыка, проверив каждый на соответствие со списком soft скиллов."
   ]
  },
  {
   "cell_type": "code",
   "execution_count": 129,
   "metadata": {},
   "outputs": [
    {
     "data": {
      "text/html": [
       "<div>\n",
       "<style scoped>\n",
       "    .dataframe tbody tr th:only-of-type {\n",
       "        vertical-align: middle;\n",
       "    }\n",
       "\n",
       "    .dataframe tbody tr th {\n",
       "        vertical-align: top;\n",
       "    }\n",
       "\n",
       "    .dataframe thead th {\n",
       "        text-align: right;\n",
       "    }\n",
       "</style>\n",
       "<table border=\"1\" class=\"dataframe\">\n",
       "  <thead>\n",
       "    <tr style=\"text-align: right;\">\n",
       "      <th></th>\n",
       "      <th></th>\n",
       "      <th>key_skills</th>\n",
       "      <th>skill_type</th>\n",
       "    </tr>\n",
       "    <tr>\n",
       "      <th>job</th>\n",
       "      <th>grade</th>\n",
       "      <th></th>\n",
       "      <th></th>\n",
       "    </tr>\n",
       "  </thead>\n",
       "  <tbody>\n",
       "    <tr>\n",
       "      <th rowspan=\"5\" valign=\"top\">Дата аналитик</th>\n",
       "      <th>Junior</th>\n",
       "      <td>power bi</td>\n",
       "      <td>hard</td>\n",
       "    </tr>\n",
       "    <tr>\n",
       "      <th>Junior</th>\n",
       "      <td>субд</td>\n",
       "      <td>hard</td>\n",
       "    </tr>\n",
       "    <tr>\n",
       "      <th>Junior</th>\n",
       "      <td>python</td>\n",
       "      <td>hard</td>\n",
       "    </tr>\n",
       "    <tr>\n",
       "      <th>Junior</th>\n",
       "      <td>sql</td>\n",
       "      <td>hard</td>\n",
       "    </tr>\n",
       "    <tr>\n",
       "      <th>Junior</th>\n",
       "      <td>ms sql</td>\n",
       "      <td>hard</td>\n",
       "    </tr>\n",
       "  </tbody>\n",
       "</table>\n",
       "</div>"
      ],
      "text/plain": [
       "                     key_skills skill_type\n",
       "job           grade                       \n",
       "Дата аналитик Junior   power bi       hard\n",
       "              Junior       субд       hard\n",
       "              Junior     python       hard\n",
       "              Junior        sql       hard\n",
       "              Junior     ms sql       hard"
      ]
     },
     "execution_count": 129,
     "metadata": {},
     "output_type": "execute_result"
    }
   ],
   "source": [
    "# Сформируем столбец с категорией\n",
    "df_skills['skill_type'] = df_skills.key_skills.apply(lambda x: 'soft' if x in soft_skills else 'hard')\n",
    "\n",
    "# Отфильтруем пустые строки\n",
    "df_skills = df_skills[df_skills.key_skills != '']\n",
    "\n",
    "df_skills.head()"
   ]
  },
  {
   "cell_type": "code",
   "execution_count": null,
   "metadata": {},
   "outputs": [],
   "source": []
  },
  {
   "cell_type": "code",
   "execution_count": 130,
   "metadata": {},
   "outputs": [
    {
     "data": {
      "text/html": [
       "<style type=\"text/css\">\n",
       "#T_9c439_row0_col4 {\n",
       "  width: 10em;\n",
       "  background: linear-gradient(90deg, #ACC2CFFF 18.3%, transparent 18.3%);\n",
       "}\n",
       "#T_9c439_row1_col4 {\n",
       "  width: 10em;\n",
       "  background: linear-gradient(90deg, #ACC2CFFF 12.2%, transparent 12.2%);\n",
       "}\n",
       "#T_9c439_row2_col4 {\n",
       "  width: 10em;\n",
       "  background: linear-gradient(90deg, #ACC2CFFF 9.3%, transparent 9.3%);\n",
       "}\n",
       "#T_9c439_row3_col4 {\n",
       "  width: 10em;\n",
       "  background: linear-gradient(90deg, #ACC2CFFF 10.4%, transparent 10.4%);\n",
       "}\n",
       "#T_9c439_row4_col4 {\n",
       "  width: 10em;\n",
       "  background: linear-gradient(90deg, #ACC2CFFF 16.8%, transparent 16.8%);\n",
       "}\n",
       "#T_9c439_row5_col4 {\n",
       "  width: 10em;\n",
       "  background: linear-gradient(90deg, #ACC2CFFF 9.1%, transparent 9.1%);\n",
       "}\n",
       "#T_9c439_row6_col4 {\n",
       "  width: 10em;\n",
       "  background: linear-gradient(90deg, #ACC2CFFF 7.2%, transparent 7.2%);\n",
       "}\n",
       "#T_9c439_row7_col4 {\n",
       "  width: 10em;\n",
       "  background: linear-gradient(90deg, #ACC2CFFF 5.3%, transparent 5.3%);\n",
       "}\n",
       "</style>\n",
       "<table id=\"T_9c439\">\n",
       "  <thead>\n",
       "    <tr>\n",
       "      <th class=\"blank level0\" >&nbsp;</th>\n",
       "      <th id=\"T_9c439_level0_col0\" class=\"col_heading level0 col0\" >job</th>\n",
       "      <th id=\"T_9c439_level0_col1\" class=\"col_heading level0 col1\" >grade</th>\n",
       "      <th id=\"T_9c439_level0_col2\" class=\"col_heading level0 col2\" colspan=\"2\">key_skills</th>\n",
       "      <th id=\"T_9c439_level0_col4\" class=\"col_heading level0 col4\" >soft_share</th>\n",
       "    </tr>\n",
       "    <tr>\n",
       "      <th class=\"index_name level1\" >skill_type</th>\n",
       "      <th id=\"T_9c439_level1_col0\" class=\"col_heading level1 col0\" ></th>\n",
       "      <th id=\"T_9c439_level1_col1\" class=\"col_heading level1 col1\" ></th>\n",
       "      <th id=\"T_9c439_level1_col2\" class=\"col_heading level1 col2\" >hard</th>\n",
       "      <th id=\"T_9c439_level1_col3\" class=\"col_heading level1 col3\" >soft</th>\n",
       "      <th id=\"T_9c439_level1_col4\" class=\"col_heading level1 col4\" ></th>\n",
       "    </tr>\n",
       "  </thead>\n",
       "  <tbody>\n",
       "    <tr>\n",
       "      <th id=\"T_9c439_level0_row0\" class=\"row_heading level0 row0\" >0</th>\n",
       "      <td id=\"T_9c439_row0_col0\" class=\"data row0 col0\" >Дата аналитик</td>\n",
       "      <td id=\"T_9c439_row0_col1\" class=\"data row0 col1\" >Junior</td>\n",
       "      <td id=\"T_9c439_row0_col2\" class=\"data row0 col2\" >703</td>\n",
       "      <td id=\"T_9c439_row0_col3\" class=\"data row0 col3\" >157</td>\n",
       "      <td id=\"T_9c439_row0_col4\" class=\"data row0 col4\" >18.26%</td>\n",
       "    </tr>\n",
       "    <tr>\n",
       "      <th id=\"T_9c439_level0_row1\" class=\"row_heading level0 row1\" >1</th>\n",
       "      <td id=\"T_9c439_row1_col0\" class=\"data row1 col0\" >Дата аналитик</td>\n",
       "      <td id=\"T_9c439_row1_col1\" class=\"data row1 col1\" >Junior+</td>\n",
       "      <td id=\"T_9c439_row1_col2\" class=\"data row1 col2\" >5949</td>\n",
       "      <td id=\"T_9c439_row1_col3\" class=\"data row1 col3\" >825</td>\n",
       "      <td id=\"T_9c439_row1_col4\" class=\"data row1 col4\" >12.18%</td>\n",
       "    </tr>\n",
       "    <tr>\n",
       "      <th id=\"T_9c439_level0_row2\" class=\"row_heading level0 row2\" >2</th>\n",
       "      <td id=\"T_9c439_row2_col0\" class=\"data row2 col0\" >Дата аналитик</td>\n",
       "      <td id=\"T_9c439_row2_col1\" class=\"data row2 col1\" >Middle</td>\n",
       "      <td id=\"T_9c439_row2_col2\" class=\"data row2 col2\" >3439</td>\n",
       "      <td id=\"T_9c439_row2_col3\" class=\"data row2 col3\" >354</td>\n",
       "      <td id=\"T_9c439_row2_col4\" class=\"data row2 col4\" >9.33%</td>\n",
       "    </tr>\n",
       "    <tr>\n",
       "      <th id=\"T_9c439_level0_row3\" class=\"row_heading level0 row3\" >3</th>\n",
       "      <td id=\"T_9c439_row3_col0\" class=\"data row3 col0\" >Дата аналитик</td>\n",
       "      <td id=\"T_9c439_row3_col1\" class=\"data row3 col1\" >Senior</td>\n",
       "      <td id=\"T_9c439_row3_col2\" class=\"data row3 col2\" >146</td>\n",
       "      <td id=\"T_9c439_row3_col3\" class=\"data row3 col3\" >17</td>\n",
       "      <td id=\"T_9c439_row3_col4\" class=\"data row3 col4\" >10.43%</td>\n",
       "    </tr>\n",
       "    <tr>\n",
       "      <th id=\"T_9c439_level0_row4\" class=\"row_heading level0 row4\" >4</th>\n",
       "      <td id=\"T_9c439_row4_col0\" class=\"data row4 col0\" >Системный аналитик</td>\n",
       "      <td id=\"T_9c439_row4_col1\" class=\"data row4 col1\" >Junior</td>\n",
       "      <td id=\"T_9c439_row4_col2\" class=\"data row4 col2\" >653</td>\n",
       "      <td id=\"T_9c439_row4_col3\" class=\"data row4 col3\" >132</td>\n",
       "      <td id=\"T_9c439_row4_col4\" class=\"data row4 col4\" >16.82%</td>\n",
       "    </tr>\n",
       "    <tr>\n",
       "      <th id=\"T_9c439_level0_row5\" class=\"row_heading level0 row5\" >5</th>\n",
       "      <td id=\"T_9c439_row5_col0\" class=\"data row5 col0\" >Системный аналитик</td>\n",
       "      <td id=\"T_9c439_row5_col1\" class=\"data row5 col1\" >Junior+</td>\n",
       "      <td id=\"T_9c439_row5_col2\" class=\"data row5 col2\" >4761</td>\n",
       "      <td id=\"T_9c439_row5_col3\" class=\"data row5 col3\" >476</td>\n",
       "      <td id=\"T_9c439_row5_col4\" class=\"data row5 col4\" >9.09%</td>\n",
       "    </tr>\n",
       "    <tr>\n",
       "      <th id=\"T_9c439_level0_row6\" class=\"row_heading level0 row6\" >6</th>\n",
       "      <td id=\"T_9c439_row6_col0\" class=\"data row6 col0\" >Системный аналитик</td>\n",
       "      <td id=\"T_9c439_row6_col1\" class=\"data row6 col1\" >Middle</td>\n",
       "      <td id=\"T_9c439_row6_col2\" class=\"data row6 col2\" >5155</td>\n",
       "      <td id=\"T_9c439_row6_col3\" class=\"data row6 col3\" >399</td>\n",
       "      <td id=\"T_9c439_row6_col4\" class=\"data row6 col4\" >7.18%</td>\n",
       "    </tr>\n",
       "    <tr>\n",
       "      <th id=\"T_9c439_level0_row7\" class=\"row_heading level0 row7\" >7</th>\n",
       "      <td id=\"T_9c439_row7_col0\" class=\"data row7 col0\" >Системный аналитик</td>\n",
       "      <td id=\"T_9c439_row7_col1\" class=\"data row7 col1\" >Senior</td>\n",
       "      <td id=\"T_9c439_row7_col2\" class=\"data row7 col2\" >302</td>\n",
       "      <td id=\"T_9c439_row7_col3\" class=\"data row7 col3\" >17</td>\n",
       "      <td id=\"T_9c439_row7_col4\" class=\"data row7 col4\" >5.33%</td>\n",
       "    </tr>\n",
       "  </tbody>\n",
       "</table>\n"
      ],
      "text/plain": [
       "<pandas.io.formats.style.Styler at 0x2448ae19d90>"
      ]
     },
     "execution_count": 130,
     "metadata": {},
     "output_type": "execute_result"
    }
   ],
   "source": [
    "# Сделаем сводную, посчитав частоту появления навыков разных видов в вакансиях по грейдам\n",
    "df_skills_pivot = (df_skills\n",
    "    .reset_index()\n",
    "    .pivot_table(\n",
    "        index=['job', 'grade'], \n",
    "        columns='skill_type', \n",
    "        aggfunc='count', \n",
    "        fill_value=0)\n",
    ")\n",
    "\n",
    "\n",
    "# Добавим столбец с долей софт скиллов\n",
    "soft_count = df_skills_pivot[('key_skills', 'soft')]\n",
    "total_count = (\n",
    "    df_skills_pivot[('key_skills', 'soft')] \n",
    "    + df_skills_pivot[('key_skills', 'hard')]\n",
    ")\n",
    "\n",
    "df_skills_pivot['soft_share'] = soft_count / total_count\n",
    "\n",
    "# Отформатируем итоговую таблицу\n",
    "df_skills_pivot = (\n",
    "    df_skills_pivot\n",
    "    .reset_index()\n",
    "    .style.format(\n",
    "        \"{:.2%}\", \n",
    "        subset='soft_share'\n",
    "    ).bar(\n",
    "        subset=['soft_share'], \n",
    "        vmax=1, \n",
    "        color=cmap.colors[2]))\n",
    "\n",
    "df_skills_pivot"
   ]
  },
  {
   "cell_type": "markdown",
   "metadata": {},
   "source": [
    "##### Промежуточные выводы\n",
    "- soft скиллы в требованиях составляют не больше пятой части от всех скиллов;\n",
    "- Больше всего разнообразных навыков в вакансиях дата аналитиков указывают для уровня Junior+;\n",
    "- У системных аналитиков уровня Junior+ и Middle представлено максимальное разнообразие навыков;\n",
    "- Доля soft скиллов среди требуемых навыков ко всем аналитикам выше для Junior. Доля падает с ростом грейда.\n",
    " "
   ]
  },
  {
   "cell_type": "markdown",
   "metadata": {},
   "source": [
    "### Требования к кандидатам\n",
    "Определим самый распространенный набор компетенций для сотрудников по грейдам.\n"
   ]
  },
  {
   "cell_type": "markdown",
   "metadata": {},
   "source": [
    "Определим самые распространенные навыки для разных вакансий."
   ]
  },
  {
   "cell_type": "code",
   "execution_count": 131,
   "metadata": {},
   "outputs": [],
   "source": [
    "# Созданим функцию\n",
    "def get_skills(data: pd.DataFrame, job: str, skill_type: str, n: int) -> pd.DataFrame:\n",
    "    '''Получаем список ключевых навыков по заданной вакансии и типу навыка. \n",
    "    Итоговая таблица содержит столбцы для каждого грейда специалиста.'''\n",
    "    # Пустой словарь для сбора результата\n",
    "    skill_dict = dict()\n",
    "    \n",
    "    # В цикле пройдемся по всем грейдам и сформируем топ навыков\n",
    "    for grade in data.reset_index().grade.unique():\n",
    "        skills_list = (\n",
    "            data.reset_index()\n",
    "            .query(f\"job == '{job}' and grade == '{grade}' and skill_type == '{skill_type}'\")\n",
    "            .key_skills\n",
    "            .value_counts()\n",
    "            .head(n)\n",
    "            .index.tolist()\n",
    "        )\n",
    "\n",
    "        # Увеличим список пустыми строками до необходимой длины\n",
    "        if len(skills_list) < n:\n",
    "            skills_list += ['' for _ in range(n - len(skills_list))]\n",
    "\n",
    "        # Добавим список в словарь с результатами\n",
    "        skill_dict.setdefault(grade, skills_list)\n",
    "\n",
    "    # Преобразуем словарь в датафрейм\n",
    "    skills_df = pd.DataFrame(skill_dict)\n",
    "\n",
    "    return skills_df"
   ]
  },
  {
   "cell_type": "markdown",
   "metadata": {},
   "source": [
    "Посмотрим как меняется набор топ 10 навыков в зависимости от грейда вакансии дата аналитиков.\n",
    "\n",
    "##### hard skills"
   ]
  },
  {
   "cell_type": "code",
   "execution_count": 132,
   "metadata": {},
   "outputs": [
    {
     "data": {
      "text/html": [
       "<div>\n",
       "<style scoped>\n",
       "    .dataframe tbody tr th:only-of-type {\n",
       "        vertical-align: middle;\n",
       "    }\n",
       "\n",
       "    .dataframe tbody tr th {\n",
       "        vertical-align: top;\n",
       "    }\n",
       "\n",
       "    .dataframe thead th {\n",
       "        text-align: right;\n",
       "    }\n",
       "</style>\n",
       "<table border=\"1\" class=\"dataframe\">\n",
       "  <thead>\n",
       "    <tr style=\"text-align: right;\">\n",
       "      <th></th>\n",
       "      <th>Junior</th>\n",
       "      <th>Junior+</th>\n",
       "      <th>Middle</th>\n",
       "      <th>Senior</th>\n",
       "    </tr>\n",
       "  </thead>\n",
       "  <tbody>\n",
       "    <tr>\n",
       "      <th>0</th>\n",
       "      <td>sql</td>\n",
       "      <td>sql</td>\n",
       "      <td>sql</td>\n",
       "      <td>sql</td>\n",
       "    </tr>\n",
       "    <tr>\n",
       "      <th>1</th>\n",
       "      <td>анализ данных</td>\n",
       "      <td>python</td>\n",
       "      <td>python</td>\n",
       "      <td>python</td>\n",
       "    </tr>\n",
       "    <tr>\n",
       "      <th>2</th>\n",
       "      <td>python</td>\n",
       "      <td>анализ данных</td>\n",
       "      <td>анализ данных</td>\n",
       "      <td>power bi</td>\n",
       "    </tr>\n",
       "    <tr>\n",
       "      <th>3</th>\n",
       "      <td>ms excel</td>\n",
       "      <td>ms excel</td>\n",
       "      <td>pandas</td>\n",
       "      <td>pandas</td>\n",
       "    </tr>\n",
       "    <tr>\n",
       "      <th>4</th>\n",
       "      <td>pandas</td>\n",
       "      <td>power bi</td>\n",
       "      <td>power bi</td>\n",
       "      <td>confluence</td>\n",
       "    </tr>\n",
       "  </tbody>\n",
       "</table>\n",
       "</div>"
      ],
      "text/plain": [
       "          Junior        Junior+         Middle      Senior\n",
       "0            sql            sql            sql         sql\n",
       "1  анализ данных         python         python      python\n",
       "2         python  анализ данных  анализ данных    power bi\n",
       "3       ms excel       ms excel         pandas      pandas\n",
       "4         pandas       power bi       power bi  confluence"
      ]
     },
     "execution_count": 132,
     "metadata": {},
     "output_type": "execute_result"
    }
   ],
   "source": [
    "get_skills(df_skills, 'Дата аналитик', 'hard', 5)"
   ]
  },
  {
   "cell_type": "markdown",
   "metadata": {},
   "source": [
    "От дата аналитика требуются следующие hard skills:\n",
    "- SQL прочно занимает первое место;\n",
    "- Знания python и pandas ценятся всегда;\n",
    "- Excel встречается в топе требований к Junior и Junior+, но выше уже не нужен;\n",
    "- Визуализация с использованием Power BI встречается чаще с ростом грейда."
   ]
  },
  {
   "cell_type": "code",
   "execution_count": 133,
   "metadata": {},
   "outputs": [
    {
     "data": {
      "text/html": [
       "<div>\n",
       "<style scoped>\n",
       "    .dataframe tbody tr th:only-of-type {\n",
       "        vertical-align: middle;\n",
       "    }\n",
       "\n",
       "    .dataframe tbody tr th {\n",
       "        vertical-align: top;\n",
       "    }\n",
       "\n",
       "    .dataframe thead th {\n",
       "        text-align: right;\n",
       "    }\n",
       "</style>\n",
       "<table border=\"1\" class=\"dataframe\">\n",
       "  <thead>\n",
       "    <tr style=\"text-align: right;\">\n",
       "      <th></th>\n",
       "      <th>Junior</th>\n",
       "      <th>Junior+</th>\n",
       "      <th>Middle</th>\n",
       "      <th>Senior</th>\n",
       "    </tr>\n",
       "  </thead>\n",
       "  <tbody>\n",
       "    <tr>\n",
       "      <th>0</th>\n",
       "      <td>документация</td>\n",
       "      <td>документация</td>\n",
       "      <td>документация</td>\n",
       "      <td>документация</td>\n",
       "    </tr>\n",
       "    <tr>\n",
       "      <th>1</th>\n",
       "      <td>sql</td>\n",
       "      <td>bpmn</td>\n",
       "      <td>sql</td>\n",
       "      <td>sql</td>\n",
       "    </tr>\n",
       "    <tr>\n",
       "      <th>2</th>\n",
       "      <td>системный анализ</td>\n",
       "      <td>sql</td>\n",
       "      <td>bpmn</td>\n",
       "      <td>uml</td>\n",
       "    </tr>\n",
       "    <tr>\n",
       "      <th>3</th>\n",
       "      <td>бизнес-анализ</td>\n",
       "      <td>confluence</td>\n",
       "      <td>confluence</td>\n",
       "      <td>bpmn</td>\n",
       "    </tr>\n",
       "    <tr>\n",
       "      <th>4</th>\n",
       "      <td>bpmn</td>\n",
       "      <td>uml</td>\n",
       "      <td>системный анализ</td>\n",
       "      <td>системный анализ</td>\n",
       "    </tr>\n",
       "  </tbody>\n",
       "</table>\n",
       "</div>"
      ],
      "text/plain": [
       "             Junior       Junior+            Middle            Senior\n",
       "0      документация  документация      документация      документация\n",
       "1               sql          bpmn               sql               sql\n",
       "2  системный анализ           sql              bpmn               uml\n",
       "3     бизнес-анализ    confluence        confluence              bpmn\n",
       "4              bpmn           uml  системный анализ  системный анализ"
      ]
     },
     "execution_count": 133,
     "metadata": {},
     "output_type": "execute_result"
    }
   ],
   "source": [
    "get_skills(df_skills, 'Системный аналитик', 'hard', 5)"
   ]
  },
  {
   "cell_type": "markdown",
   "metadata": {},
   "source": [
    "У системных аналитиков совершенно другой набор навыков:\n",
    "- На первом месте написание документации, у всех грейдов;\n",
    "- Не менее важным будет умение писать код SQL;\n",
    "- Обязательно знание BPMN, UML."
   ]
  },
  {
   "cell_type": "markdown",
   "metadata": {},
   "source": [
    "##### soft skills"
   ]
  },
  {
   "cell_type": "code",
   "execution_count": 134,
   "metadata": {},
   "outputs": [
    {
     "data": {
      "text/html": [
       "<div>\n",
       "<style scoped>\n",
       "    .dataframe tbody tr th:only-of-type {\n",
       "        vertical-align: middle;\n",
       "    }\n",
       "\n",
       "    .dataframe tbody tr th {\n",
       "        vertical-align: top;\n",
       "    }\n",
       "\n",
       "    .dataframe thead th {\n",
       "        text-align: right;\n",
       "    }\n",
       "</style>\n",
       "<table border=\"1\" class=\"dataframe\">\n",
       "  <thead>\n",
       "    <tr style=\"text-align: right;\">\n",
       "      <th></th>\n",
       "      <th>Junior</th>\n",
       "      <th>Junior+</th>\n",
       "      <th>Middle</th>\n",
       "      <th>Senior</th>\n",
       "    </tr>\n",
       "  </thead>\n",
       "  <tbody>\n",
       "    <tr>\n",
       "      <th>0</th>\n",
       "      <td>аналитическое мышление</td>\n",
       "      <td>аналитическое мышление</td>\n",
       "      <td>аналитическое мышление</td>\n",
       "      <td>проактивность</td>\n",
       "    </tr>\n",
       "    <tr>\n",
       "      <th>1</th>\n",
       "      <td>работа с большим объемом информации</td>\n",
       "      <td>работа с большим объемом информации</td>\n",
       "      <td>работа с большим объемом информации</td>\n",
       "      <td>презентация результатов</td>\n",
       "    </tr>\n",
       "    <tr>\n",
       "      <th>2</th>\n",
       "      <td>коммуникация</td>\n",
       "      <td>коммуникация</td>\n",
       "      <td>коммуникация</td>\n",
       "      <td>коммуникация</td>\n",
       "    </tr>\n",
       "    <tr>\n",
       "      <th>3</th>\n",
       "      <td>работа в команде</td>\n",
       "      <td>аналитический склад ума</td>\n",
       "      <td>проактивность</td>\n",
       "      <td>аналитическое мышление</td>\n",
       "    </tr>\n",
       "    <tr>\n",
       "      <th>4</th>\n",
       "      <td>проактивность</td>\n",
       "      <td>проактивность</td>\n",
       "      <td>подготовка презентаций</td>\n",
       "      <td>внимание к деталям</td>\n",
       "    </tr>\n",
       "  </tbody>\n",
       "</table>\n",
       "</div>"
      ],
      "text/plain": [
       "                                Junior                              Junior+  \\\n",
       "0               аналитическое мышление               аналитическое мышление   \n",
       "1  работа с большим объемом информации  работа с большим объемом информации   \n",
       "2                         коммуникация                         коммуникация   \n",
       "3                     работа в команде              аналитический склад ума   \n",
       "4                        проактивность                        проактивность   \n",
       "\n",
       "                                Middle                   Senior  \n",
       "0               аналитическое мышление            проактивность  \n",
       "1  работа с большим объемом информации  презентация результатов  \n",
       "2                         коммуникация             коммуникация  \n",
       "3                        проактивность   аналитическое мышление  \n",
       "4               подготовка презентаций       внимание к деталям  "
      ]
     },
     "execution_count": 134,
     "metadata": {},
     "output_type": "execute_result"
    }
   ],
   "source": [
    "get_skills(df_skills, 'Дата аналитик', 'soft', 5)"
   ]
  },
  {
   "cell_type": "markdown",
   "metadata": {},
   "source": [
    "Для аналитика данных всегда требуется:\n",
    "- Аналитический склад ума;\n",
    "- Работа с большим объемом информации;\n",
    "- Навыки коммуникации;\n",
    "- Проактивность и внимательность будут большим плюсом."
   ]
  },
  {
   "cell_type": "code",
   "execution_count": 135,
   "metadata": {},
   "outputs": [
    {
     "data": {
      "text/html": [
       "<div>\n",
       "<style scoped>\n",
       "    .dataframe tbody tr th:only-of-type {\n",
       "        vertical-align: middle;\n",
       "    }\n",
       "\n",
       "    .dataframe tbody tr th {\n",
       "        vertical-align: top;\n",
       "    }\n",
       "\n",
       "    .dataframe thead th {\n",
       "        text-align: right;\n",
       "    }\n",
       "</style>\n",
       "<table border=\"1\" class=\"dataframe\">\n",
       "  <thead>\n",
       "    <tr style=\"text-align: right;\">\n",
       "      <th></th>\n",
       "      <th>Junior</th>\n",
       "      <th>Junior+</th>\n",
       "      <th>Middle</th>\n",
       "      <th>Senior</th>\n",
       "    </tr>\n",
       "  </thead>\n",
       "  <tbody>\n",
       "    <tr>\n",
       "      <th>0</th>\n",
       "      <td>аналитическое мышление</td>\n",
       "      <td>аналитическое мышление</td>\n",
       "      <td>коммуникация</td>\n",
       "      <td>коммуникация</td>\n",
       "    </tr>\n",
       "    <tr>\n",
       "      <th>1</th>\n",
       "      <td>аналитический склад ума</td>\n",
       "      <td>коммуникация</td>\n",
       "      <td>аналитическое мышление</td>\n",
       "      <td>переговоры</td>\n",
       "    </tr>\n",
       "    <tr>\n",
       "      <th>2</th>\n",
       "      <td>обучение и развитие</td>\n",
       "      <td>проактивность</td>\n",
       "      <td>проактивность</td>\n",
       "      <td>креативность</td>\n",
       "    </tr>\n",
       "    <tr>\n",
       "      <th>3</th>\n",
       "      <td>коммуникация</td>\n",
       "      <td>работа с большим объемом информации</td>\n",
       "      <td>переговоры</td>\n",
       "      <td>аналитическое мышление</td>\n",
       "    </tr>\n",
       "    <tr>\n",
       "      <th>4</th>\n",
       "      <td>ответственность</td>\n",
       "      <td>системное мышление</td>\n",
       "      <td>работа с большим объемом информации</td>\n",
       "      <td>логическое мышление</td>\n",
       "    </tr>\n",
       "  </tbody>\n",
       "</table>\n",
       "</div>"
      ],
      "text/plain": [
       "                    Junior                              Junior+  \\\n",
       "0   аналитическое мышление               аналитическое мышление   \n",
       "1  аналитический склад ума                         коммуникация   \n",
       "2      обучение и развитие                        проактивность   \n",
       "3             коммуникация  работа с большим объемом информации   \n",
       "4          ответственность                   системное мышление   \n",
       "\n",
       "                                Middle                  Senior  \n",
       "0                         коммуникация            коммуникация  \n",
       "1               аналитическое мышление              переговоры  \n",
       "2                        проактивность            креативность  \n",
       "3                           переговоры  аналитическое мышление  \n",
       "4  работа с большим объемом информации     логическое мышление  "
      ]
     },
     "execution_count": 135,
     "metadata": {},
     "output_type": "execute_result"
    }
   ],
   "source": [
    "get_skills(df_skills, 'Системный аналитик', 'soft', 5)"
   ]
  },
  {
   "cell_type": "markdown",
   "metadata": {},
   "source": [
    "В требованиях к системным аналитикам реже встречается работа с большим объемом информации, но коммуникация выходит на передний план."
   ]
  },
  {
   "cell_type": "markdown",
   "metadata": {},
   "source": [
    "## Итоговый вывод\n",
    "\n",
    "#### Портреты типичных условий труда\n",
    "\n",
    "**Аналитики данных:**\n",
    "1. **ТОП-10 работодателей:** В основном финансовый сектор (СБЕР, ВТБ), маркетплейсы (WILDBERRIES, Ozon) и ИТ-компании (T1, Яндекс).\n",
    "2. **Зарплатная вилка:**\n",
    "   - Junior и Junior+: до 200K.\n",
    "   - Middle и Senior: разнообразные предложения, в зависимости от специализации.\n",
    "3. **Тип занятости:** Преимущественно полная занятость, стажировка предлагается только Junior.\n",
    "4. **График работы:** В основном полный рабочий день, удаленная работа для Junior предлагается редко.\n",
    "\n",
    "**Системные аналитики:**\n",
    "1. **ТОП-10 работодателей:** Финансовый сектор (СБЕР, Совкомбанк, Т-Банк) и ИТ-технологические компании (T1, Aston, Яндекс).\n",
    "2. **Зарплатная вилка:**\n",
    "   - Junior+: от 100K до 300K.\n",
    "   - Middle: половина предложений составляет 300K+.\n",
    "3. **Тип занятости:** Преимущественно полная занятость.\n",
    "4. **График работы:** В основном полный рабочий день, удаленная работа для Junior предлагается редко.\n",
    "\n",
    "#### Портреты ожидаемого работника\n",
    "\n",
    "**Аналитики данных:**\n",
    "1. **Junior:**\n",
    "   - Hard skills: SQL, Python, Excel.\n",
    "   - Soft skills: Аналитическое мышление, работа с большим объемом информации, коммуникация, работа в команде, проактивность.\n",
    "2. **Junior+:**\n",
    "   - Hard skills: SQL, Python, Excel, Power BI.\n",
    "   - Soft skills: Аналитическое мышление, работа с большим объемом информации, коммуникация, аналитический склад ума, проактивность.\n",
    "3. **Middle:**\n",
    "   - Hard skills: SQL, Python, Pandas, Power BI.\n",
    "   - Soft skills: Аналитическое мышление, работа с большим объемом информации, коммуникация, проактивность, подготовка презентаций.\n",
    "4. **Senior:**\n",
    "   - Hard skills: SQL, Python, Pandas, Confluence.\n",
    "   - Soft skills: Проактивность, презентация результатов, коммуникация, аналитическое мышление, внимание к деталям.\n",
    "\n",
    "**Системные аналитики:**\n",
    "1. **Junior:**\n",
    "   - Hard skills: Документация, SQL, системный анализ, BPMN.\n",
    "   - Soft skills: Аналитическое мышление, аналитический склад ума, обучение и развитие, коммуникация, ответственность.\n",
    "2. **Junior+:**\n",
    "   - Hard skills: Документация, BPMN, SQL, Confluence, UML.\n",
    "   - Soft skills: Аналитическое мышление, коммуникация, проактивность, работа с большим объемом информации, системное мышление.\n",
    "3. **Middle:**\n",
    "   - Hard skills: Документация, SQL, BPMN, Confluence, системный анализ.\n",
    "   - Soft skills: Коммуникация, аналитическое мышление, проактивность, переговоры, работа с большим объемом информации.\n",
    "4. **Senior:**\n",
    "   - Hard skills: Документация, SQL, UML, BPMN, системный анализ.\n",
    "   - Soft skills: Коммуникация, переговоры, креативность, аналитическое мышление, логическое мышление.\n",
    "\n",
    "### Заключение\n",
    "\n",
    "На рынке труда для аналитиков данных и системных аналитиков существуют различия в типичных условиях труда и требованиях к кандидатам. Аналитики данных чаще востребованы в финансовом секторе и маркетплейсах, тогда как системные аналитики — в финансовом секторе и ИТ-технологических компаниях. Зарплатные предложения и требования к навыкам также различаются в зависимости от грейда и типа аналитика."
   ]
  }
 ],
 "metadata": {
  "kernelspec": {
   "display_name": "Python 3",
   "language": "python",
   "name": "python3"
  },
  "language_info": {
   "codemirror_mode": {
    "name": "ipython",
    "version": 3
   },
   "file_extension": ".py",
   "mimetype": "text/x-python",
   "name": "python",
   "nbconvert_exporter": "python",
   "pygments_lexer": "ipython3",
   "version": "3.11.9"
  }
 },
 "nbformat": 4,
 "nbformat_minor": 2
}
